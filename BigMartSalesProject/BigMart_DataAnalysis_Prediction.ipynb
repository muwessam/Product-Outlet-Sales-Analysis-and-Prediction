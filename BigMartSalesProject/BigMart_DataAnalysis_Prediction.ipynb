{
 "cells": [
  {
   "cell_type": "markdown",
   "metadata": {
    "id": "3X_zccc1SxN5"
   },
   "source": [
    "# **BigMart Sales Prediction**"
   ]
  },
  {
   "cell_type": "markdown",
   "metadata": {
    "id": "JG9l417-SF0m"
   },
   "source": [
    "## **Problem Statement**\n",
    "The data scientists at BigMart have collected 2013 sales data for 1559 products across 10 stores in different cities. Also, certain attributes of each product and store have been defined.\n"
   ]
  },
  {
   "cell_type": "markdown",
   "metadata": {
    "id": "AcdFBxJxTMGY"
   },
   "source": [
    "## **Project Goal**\n",
    "To build a predictive model and find out the sales of each product per particular store."
   ]
  },
  {
   "cell_type": "markdown",
   "metadata": {
    "id": "D0uQ9C8qUi0Z"
   },
   "source": [
    "### **Needed Modules**\n",
    "Now we will import the libraries or modules we'll need in our project"
   ]
  },
  {
   "cell_type": "code",
   "execution_count": 1,
   "metadata": {
    "id": "DNaGEKajkgZL"
   },
   "outputs": [],
   "source": [
    "#for data manipulation\n",
    "import numpy as np\n",
    "import pandas as pd\n",
    "\n",
    "#for visualizations\n",
    "import seaborn as sns\n",
    "import matplotlib.pyplot as plt\n",
    "\n",
    "#splitting the data\n",
    "from sklearn.model_selection import train_test_split\n",
    "from sklearn.model_selection import cross_val_score\n",
    "\n",
    "\n",
    "#for feature engineering\n",
    "from sklearn.preprocessing import OneHotEncoder\n",
    "from sklearn.preprocessing import LabelEncoder\n",
    "from sklearn.preprocessing import StandardScaler\n",
    "\n",
    "#for models evaluation metrics\n",
    "from sklearn.metrics import r2_score as R2\n",
    "\n",
    "#ML models\n",
    "from sklearn.linear_model import LinearRegression, Lasso, Ridge\n",
    "from sklearn.ensemble import RandomForestRegressor\n",
    "from xgboost import XGBRegressor"
   ]
  },
  {
   "cell_type": "markdown",
   "metadata": {
    "id": "RmSkzuUUeob8"
   },
   "source": [
    "### **Data Reading, Exploring and Preparation**"
   ]
  },
  {
   "cell_type": "code",
   "execution_count": 2,
   "metadata": {
    "colab": {
     "base_uri": "https://localhost:8080/",
     "height": 357
    },
    "id": "E_GzOkcrel8V",
    "outputId": "57e125ea-c430-4ec1-eedf-cbbfc833e873"
   },
   "outputs": [
    {
     "data": {
      "text/html": [
       "<div>\n",
       "<style scoped>\n",
       "    .dataframe tbody tr th:only-of-type {\n",
       "        vertical-align: middle;\n",
       "    }\n",
       "\n",
       "    .dataframe tbody tr th {\n",
       "        vertical-align: top;\n",
       "    }\n",
       "\n",
       "    .dataframe thead th {\n",
       "        text-align: right;\n",
       "    }\n",
       "</style>\n",
       "<table border=\"1\" class=\"dataframe\">\n",
       "  <thead>\n",
       "    <tr style=\"text-align: right;\">\n",
       "      <th></th>\n",
       "      <th>Item_Identifier</th>\n",
       "      <th>Item_Weight</th>\n",
       "      <th>Item_Fat_Content</th>\n",
       "      <th>Item_Visibility</th>\n",
       "      <th>Item_Type</th>\n",
       "      <th>Item_MRP</th>\n",
       "      <th>Outlet_Identifier</th>\n",
       "      <th>Outlet_Establishment_Year</th>\n",
       "      <th>Outlet_Size</th>\n",
       "      <th>Outlet_Location_Type</th>\n",
       "      <th>Outlet_Type</th>\n",
       "      <th>Item_Outlet_Sales</th>\n",
       "    </tr>\n",
       "  </thead>\n",
       "  <tbody>\n",
       "    <tr>\n",
       "      <th>0</th>\n",
       "      <td>FDA15</td>\n",
       "      <td>9.30</td>\n",
       "      <td>Low Fat</td>\n",
       "      <td>0.016047</td>\n",
       "      <td>Dairy</td>\n",
       "      <td>249.8092</td>\n",
       "      <td>OUT049</td>\n",
       "      <td>1999</td>\n",
       "      <td>Medium</td>\n",
       "      <td>Tier 1</td>\n",
       "      <td>Supermarket Type1</td>\n",
       "      <td>3735.1380</td>\n",
       "    </tr>\n",
       "    <tr>\n",
       "      <th>1</th>\n",
       "      <td>DRC01</td>\n",
       "      <td>5.92</td>\n",
       "      <td>Regular</td>\n",
       "      <td>0.019278</td>\n",
       "      <td>Soft Drinks</td>\n",
       "      <td>48.2692</td>\n",
       "      <td>OUT018</td>\n",
       "      <td>2009</td>\n",
       "      <td>Medium</td>\n",
       "      <td>Tier 3</td>\n",
       "      <td>Supermarket Type2</td>\n",
       "      <td>443.4228</td>\n",
       "    </tr>\n",
       "    <tr>\n",
       "      <th>2</th>\n",
       "      <td>FDN15</td>\n",
       "      <td>17.50</td>\n",
       "      <td>Low Fat</td>\n",
       "      <td>0.016760</td>\n",
       "      <td>Meat</td>\n",
       "      <td>141.6180</td>\n",
       "      <td>OUT049</td>\n",
       "      <td>1999</td>\n",
       "      <td>Medium</td>\n",
       "      <td>Tier 1</td>\n",
       "      <td>Supermarket Type1</td>\n",
       "      <td>2097.2700</td>\n",
       "    </tr>\n",
       "    <tr>\n",
       "      <th>3</th>\n",
       "      <td>FDX07</td>\n",
       "      <td>19.20</td>\n",
       "      <td>Regular</td>\n",
       "      <td>0.000000</td>\n",
       "      <td>Fruits and Vegetables</td>\n",
       "      <td>182.0950</td>\n",
       "      <td>OUT010</td>\n",
       "      <td>1998</td>\n",
       "      <td>NaN</td>\n",
       "      <td>Tier 3</td>\n",
       "      <td>Grocery Store</td>\n",
       "      <td>732.3800</td>\n",
       "    </tr>\n",
       "    <tr>\n",
       "      <th>4</th>\n",
       "      <td>NCD19</td>\n",
       "      <td>8.93</td>\n",
       "      <td>Low Fat</td>\n",
       "      <td>0.000000</td>\n",
       "      <td>Household</td>\n",
       "      <td>53.8614</td>\n",
       "      <td>OUT013</td>\n",
       "      <td>1987</td>\n",
       "      <td>High</td>\n",
       "      <td>Tier 3</td>\n",
       "      <td>Supermarket Type1</td>\n",
       "      <td>994.7052</td>\n",
       "    </tr>\n",
       "  </tbody>\n",
       "</table>\n",
       "</div>"
      ],
      "text/plain": [
       "  Item_Identifier  Item_Weight Item_Fat_Content  Item_Visibility  \\\n",
       "0           FDA15         9.30          Low Fat         0.016047   \n",
       "1           DRC01         5.92          Regular         0.019278   \n",
       "2           FDN15        17.50          Low Fat         0.016760   \n",
       "3           FDX07        19.20          Regular         0.000000   \n",
       "4           NCD19         8.93          Low Fat         0.000000   \n",
       "\n",
       "               Item_Type  Item_MRP Outlet_Identifier  \\\n",
       "0                  Dairy  249.8092            OUT049   \n",
       "1            Soft Drinks   48.2692            OUT018   \n",
       "2                   Meat  141.6180            OUT049   \n",
       "3  Fruits and Vegetables  182.0950            OUT010   \n",
       "4              Household   53.8614            OUT013   \n",
       "\n",
       "   Outlet_Establishment_Year Outlet_Size Outlet_Location_Type  \\\n",
       "0                       1999      Medium               Tier 1   \n",
       "1                       2009      Medium               Tier 3   \n",
       "2                       1999      Medium               Tier 1   \n",
       "3                       1998         NaN               Tier 3   \n",
       "4                       1987        High               Tier 3   \n",
       "\n",
       "         Outlet_Type  Item_Outlet_Sales  \n",
       "0  Supermarket Type1          3735.1380  \n",
       "1  Supermarket Type2           443.4228  \n",
       "2  Supermarket Type1          2097.2700  \n",
       "3      Grocery Store           732.3800  \n",
       "4  Supermarket Type1           994.7052  "
      ]
     },
     "execution_count": 2,
     "metadata": {},
     "output_type": "execute_result"
    }
   ],
   "source": [
    "#import the training dataset\n",
    "train_data = pd.read_csv('Train.csv')\n",
    "#view the top rows\n",
    "train_data.head()"
   ]
  },
  {
   "cell_type": "code",
   "execution_count": 3,
   "metadata": {
    "colab": {
     "base_uri": "https://localhost:8080/"
    },
    "id": "KiPNm-ZGfbp5",
    "outputId": "f6184b48-36fe-4078-e348-55a449974cd8"
   },
   "outputs": [
    {
     "data": {
      "text/plain": [
       "(8523, 12)"
      ]
     },
     "execution_count": 3,
     "metadata": {},
     "output_type": "execute_result"
    }
   ],
   "source": [
    "#reading our dataset size\n",
    "train_data.shape"
   ]
  },
  {
   "cell_type": "code",
   "execution_count": 4,
   "metadata": {},
   "outputs": [
    {
     "name": "stdout",
     "output_type": "stream",
     "text": [
      "<class 'pandas.core.frame.DataFrame'>\n",
      "RangeIndex: 8523 entries, 0 to 8522\n",
      "Data columns (total 12 columns):\n",
      " #   Column                     Non-Null Count  Dtype  \n",
      "---  ------                     --------------  -----  \n",
      " 0   Item_Identifier            8523 non-null   object \n",
      " 1   Item_Weight                7060 non-null   float64\n",
      " 2   Item_Fat_Content           8523 non-null   object \n",
      " 3   Item_Visibility            8523 non-null   float64\n",
      " 4   Item_Type                  8523 non-null   object \n",
      " 5   Item_MRP                   8523 non-null   float64\n",
      " 6   Outlet_Identifier          8523 non-null   object \n",
      " 7   Outlet_Establishment_Year  8523 non-null   int64  \n",
      " 8   Outlet_Size                6113 non-null   object \n",
      " 9   Outlet_Location_Type       8523 non-null   object \n",
      " 10  Outlet_Type                8523 non-null   object \n",
      " 11  Item_Outlet_Sales          8523 non-null   float64\n",
      "dtypes: float64(4), int64(1), object(7)\n",
      "memory usage: 799.2+ KB\n"
     ]
    }
   ],
   "source": [
    "#getting an intution about our data's types and features\n",
    "train_data.info()"
   ]
  },
  {
   "cell_type": "code",
   "execution_count": 5,
   "metadata": {
    "colab": {
     "base_uri": "https://localhost:8080/",
     "height": 300
    },
    "id": "_PfPGsGBxz9c",
    "outputId": "ef138bd0-ca0b-47d8-cd6d-32641769bd31"
   },
   "outputs": [
    {
     "data": {
      "text/html": [
       "<div>\n",
       "<style scoped>\n",
       "    .dataframe tbody tr th:only-of-type {\n",
       "        vertical-align: middle;\n",
       "    }\n",
       "\n",
       "    .dataframe tbody tr th {\n",
       "        vertical-align: top;\n",
       "    }\n",
       "\n",
       "    .dataframe thead th {\n",
       "        text-align: right;\n",
       "    }\n",
       "</style>\n",
       "<table border=\"1\" class=\"dataframe\">\n",
       "  <thead>\n",
       "    <tr style=\"text-align: right;\">\n",
       "      <th></th>\n",
       "      <th>Item_Weight</th>\n",
       "      <th>Item_Visibility</th>\n",
       "      <th>Item_MRP</th>\n",
       "      <th>Outlet_Establishment_Year</th>\n",
       "      <th>Item_Outlet_Sales</th>\n",
       "    </tr>\n",
       "  </thead>\n",
       "  <tbody>\n",
       "    <tr>\n",
       "      <th>count</th>\n",
       "      <td>7060.000000</td>\n",
       "      <td>8523.000000</td>\n",
       "      <td>8523.000000</td>\n",
       "      <td>8523.000000</td>\n",
       "      <td>8523.000000</td>\n",
       "    </tr>\n",
       "    <tr>\n",
       "      <th>mean</th>\n",
       "      <td>12.857645</td>\n",
       "      <td>0.066132</td>\n",
       "      <td>140.992782</td>\n",
       "      <td>1997.831867</td>\n",
       "      <td>2181.288914</td>\n",
       "    </tr>\n",
       "    <tr>\n",
       "      <th>std</th>\n",
       "      <td>4.643456</td>\n",
       "      <td>0.051598</td>\n",
       "      <td>62.275067</td>\n",
       "      <td>8.371760</td>\n",
       "      <td>1706.499616</td>\n",
       "    </tr>\n",
       "    <tr>\n",
       "      <th>min</th>\n",
       "      <td>4.555000</td>\n",
       "      <td>0.000000</td>\n",
       "      <td>31.290000</td>\n",
       "      <td>1985.000000</td>\n",
       "      <td>33.290000</td>\n",
       "    </tr>\n",
       "    <tr>\n",
       "      <th>25%</th>\n",
       "      <td>8.773750</td>\n",
       "      <td>0.026989</td>\n",
       "      <td>93.826500</td>\n",
       "      <td>1987.000000</td>\n",
       "      <td>834.247400</td>\n",
       "    </tr>\n",
       "    <tr>\n",
       "      <th>50%</th>\n",
       "      <td>12.600000</td>\n",
       "      <td>0.053931</td>\n",
       "      <td>143.012800</td>\n",
       "      <td>1999.000000</td>\n",
       "      <td>1794.331000</td>\n",
       "    </tr>\n",
       "    <tr>\n",
       "      <th>75%</th>\n",
       "      <td>16.850000</td>\n",
       "      <td>0.094585</td>\n",
       "      <td>185.643700</td>\n",
       "      <td>2004.000000</td>\n",
       "      <td>3101.296400</td>\n",
       "    </tr>\n",
       "    <tr>\n",
       "      <th>max</th>\n",
       "      <td>21.350000</td>\n",
       "      <td>0.328391</td>\n",
       "      <td>266.888400</td>\n",
       "      <td>2009.000000</td>\n",
       "      <td>13086.964800</td>\n",
       "    </tr>\n",
       "  </tbody>\n",
       "</table>\n",
       "</div>"
      ],
      "text/plain": [
       "       Item_Weight  Item_Visibility     Item_MRP  Outlet_Establishment_Year  \\\n",
       "count  7060.000000      8523.000000  8523.000000                8523.000000   \n",
       "mean     12.857645         0.066132   140.992782                1997.831867   \n",
       "std       4.643456         0.051598    62.275067                   8.371760   \n",
       "min       4.555000         0.000000    31.290000                1985.000000   \n",
       "25%       8.773750         0.026989    93.826500                1987.000000   \n",
       "50%      12.600000         0.053931   143.012800                1999.000000   \n",
       "75%      16.850000         0.094585   185.643700                2004.000000   \n",
       "max      21.350000         0.328391   266.888400                2009.000000   \n",
       "\n",
       "       Item_Outlet_Sales  \n",
       "count        8523.000000  \n",
       "mean         2181.288914  \n",
       "std          1706.499616  \n",
       "min            33.290000  \n",
       "25%           834.247400  \n",
       "50%          1794.331000  \n",
       "75%          3101.296400  \n",
       "max         13086.964800  "
      ]
     },
     "execution_count": 5,
     "metadata": {},
     "output_type": "execute_result"
    }
   ],
   "source": [
    "train_data.describe()"
   ]
  },
  {
   "cell_type": "code",
   "execution_count": 6,
   "metadata": {
    "colab": {
     "base_uri": "https://localhost:8080/",
     "height": 357
    },
    "id": "66foa4KXbP1A",
    "outputId": "54b75496-730e-468d-9c64-0b75fe328721"
   },
   "outputs": [
    {
     "data": {
      "text/html": [
       "<div>\n",
       "<style scoped>\n",
       "    .dataframe tbody tr th:only-of-type {\n",
       "        vertical-align: middle;\n",
       "    }\n",
       "\n",
       "    .dataframe tbody tr th {\n",
       "        vertical-align: top;\n",
       "    }\n",
       "\n",
       "    .dataframe thead th {\n",
       "        text-align: right;\n",
       "    }\n",
       "</style>\n",
       "<table border=\"1\" class=\"dataframe\">\n",
       "  <thead>\n",
       "    <tr style=\"text-align: right;\">\n",
       "      <th></th>\n",
       "      <th>Item_Identifier</th>\n",
       "      <th>Item_Weight</th>\n",
       "      <th>Item_Fat_Content</th>\n",
       "      <th>Item_Visibility</th>\n",
       "      <th>Item_Type</th>\n",
       "      <th>Item_MRP</th>\n",
       "      <th>Outlet_Identifier</th>\n",
       "      <th>Outlet_Establishment_Year</th>\n",
       "      <th>Outlet_Size</th>\n",
       "      <th>Outlet_Location_Type</th>\n",
       "      <th>Outlet_Type</th>\n",
       "    </tr>\n",
       "  </thead>\n",
       "  <tbody>\n",
       "    <tr>\n",
       "      <th>0</th>\n",
       "      <td>FDW58</td>\n",
       "      <td>20.750</td>\n",
       "      <td>Low Fat</td>\n",
       "      <td>0.007565</td>\n",
       "      <td>Snack Foods</td>\n",
       "      <td>107.8622</td>\n",
       "      <td>OUT049</td>\n",
       "      <td>1999</td>\n",
       "      <td>Medium</td>\n",
       "      <td>Tier 1</td>\n",
       "      <td>Supermarket Type1</td>\n",
       "    </tr>\n",
       "    <tr>\n",
       "      <th>1</th>\n",
       "      <td>FDW14</td>\n",
       "      <td>8.300</td>\n",
       "      <td>reg</td>\n",
       "      <td>0.038428</td>\n",
       "      <td>Dairy</td>\n",
       "      <td>87.3198</td>\n",
       "      <td>OUT017</td>\n",
       "      <td>2007</td>\n",
       "      <td>NaN</td>\n",
       "      <td>Tier 2</td>\n",
       "      <td>Supermarket Type1</td>\n",
       "    </tr>\n",
       "    <tr>\n",
       "      <th>2</th>\n",
       "      <td>NCN55</td>\n",
       "      <td>14.600</td>\n",
       "      <td>Low Fat</td>\n",
       "      <td>0.099575</td>\n",
       "      <td>Others</td>\n",
       "      <td>241.7538</td>\n",
       "      <td>OUT010</td>\n",
       "      <td>1998</td>\n",
       "      <td>NaN</td>\n",
       "      <td>Tier 3</td>\n",
       "      <td>Grocery Store</td>\n",
       "    </tr>\n",
       "    <tr>\n",
       "      <th>3</th>\n",
       "      <td>FDQ58</td>\n",
       "      <td>7.315</td>\n",
       "      <td>Low Fat</td>\n",
       "      <td>0.015388</td>\n",
       "      <td>Snack Foods</td>\n",
       "      <td>155.0340</td>\n",
       "      <td>OUT017</td>\n",
       "      <td>2007</td>\n",
       "      <td>NaN</td>\n",
       "      <td>Tier 2</td>\n",
       "      <td>Supermarket Type1</td>\n",
       "    </tr>\n",
       "    <tr>\n",
       "      <th>4</th>\n",
       "      <td>FDY38</td>\n",
       "      <td>NaN</td>\n",
       "      <td>Regular</td>\n",
       "      <td>0.118599</td>\n",
       "      <td>Dairy</td>\n",
       "      <td>234.2300</td>\n",
       "      <td>OUT027</td>\n",
       "      <td>1985</td>\n",
       "      <td>Medium</td>\n",
       "      <td>Tier 3</td>\n",
       "      <td>Supermarket Type3</td>\n",
       "    </tr>\n",
       "  </tbody>\n",
       "</table>\n",
       "</div>"
      ],
      "text/plain": [
       "  Item_Identifier  Item_Weight Item_Fat_Content  Item_Visibility    Item_Type  \\\n",
       "0           FDW58       20.750          Low Fat         0.007565  Snack Foods   \n",
       "1           FDW14        8.300              reg         0.038428        Dairy   \n",
       "2           NCN55       14.600          Low Fat         0.099575       Others   \n",
       "3           FDQ58        7.315          Low Fat         0.015388  Snack Foods   \n",
       "4           FDY38          NaN          Regular         0.118599        Dairy   \n",
       "\n",
       "   Item_MRP Outlet_Identifier  Outlet_Establishment_Year Outlet_Size  \\\n",
       "0  107.8622            OUT049                       1999      Medium   \n",
       "1   87.3198            OUT017                       2007         NaN   \n",
       "2  241.7538            OUT010                       1998         NaN   \n",
       "3  155.0340            OUT017                       2007         NaN   \n",
       "4  234.2300            OUT027                       1985      Medium   \n",
       "\n",
       "  Outlet_Location_Type        Outlet_Type  \n",
       "0               Tier 1  Supermarket Type1  \n",
       "1               Tier 2  Supermarket Type1  \n",
       "2               Tier 3      Grocery Store  \n",
       "3               Tier 2  Supermarket Type1  \n",
       "4               Tier 3  Supermarket Type3  "
      ]
     },
     "execution_count": 6,
     "metadata": {},
     "output_type": "execute_result"
    }
   ],
   "source": [
    "#import the testing dataset\n",
    "test_data = pd.read_csv('Test.csv')\n",
    "#view the top rows\n",
    "test_data.head()"
   ]
  },
  {
   "cell_type": "code",
   "execution_count": 7,
   "metadata": {
    "colab": {
     "base_uri": "https://localhost:8080/"
    },
    "id": "tP1NoB989PNI",
    "outputId": "0afee14e-3f3c-4596-959b-ae1636226b01"
   },
   "outputs": [
    {
     "name": "stdout",
     "output_type": "stream",
     "text": [
      "<class 'pandas.core.frame.DataFrame'>\n",
      "RangeIndex: 5681 entries, 0 to 5680\n",
      "Data columns (total 11 columns):\n",
      " #   Column                     Non-Null Count  Dtype  \n",
      "---  ------                     --------------  -----  \n",
      " 0   Item_Identifier            5681 non-null   object \n",
      " 1   Item_Weight                4705 non-null   float64\n",
      " 2   Item_Fat_Content           5681 non-null   object \n",
      " 3   Item_Visibility            5681 non-null   float64\n",
      " 4   Item_Type                  5681 non-null   object \n",
      " 5   Item_MRP                   5681 non-null   float64\n",
      " 6   Outlet_Identifier          5681 non-null   object \n",
      " 7   Outlet_Establishment_Year  5681 non-null   int64  \n",
      " 8   Outlet_Size                4075 non-null   object \n",
      " 9   Outlet_Location_Type       5681 non-null   object \n",
      " 10  Outlet_Type                5681 non-null   object \n",
      "dtypes: float64(3), int64(1), object(7)\n",
      "memory usage: 488.3+ KB\n"
     ]
    }
   ],
   "source": [
    "#making sure the test data is relevant by using the info() method of both testing data\n",
    "test_data.info()"
   ]
  },
  {
   "cell_type": "code",
   "execution_count": 8,
   "metadata": {
    "colab": {
     "base_uri": "https://localhost:8080/"
    },
    "id": "QVXH2cp-9UhL",
    "outputId": "53008de9-33ff-4089-a454-30c502870d7e"
   },
   "outputs": [
    {
     "data": {
      "text/plain": [
       "(Item_Identifier                 0\n",
       " Item_Weight                  1463\n",
       " Item_Fat_Content                0\n",
       " Item_Visibility                 0\n",
       " Item_Type                       0\n",
       " Item_MRP                        0\n",
       " Outlet_Identifier               0\n",
       " Outlet_Establishment_Year       0\n",
       " Outlet_Size                  2410\n",
       " Outlet_Location_Type            0\n",
       " Outlet_Type                     0\n",
       " Item_Outlet_Sales               0\n",
       " dtype: int64,\n",
       " Item_Identifier                 0\n",
       " Item_Weight                   976\n",
       " Item_Fat_Content                0\n",
       " Item_Visibility                 0\n",
       " Item_Type                       0\n",
       " Item_MRP                        0\n",
       " Outlet_Identifier               0\n",
       " Outlet_Establishment_Year       0\n",
       " Outlet_Size                  1606\n",
       " Outlet_Location_Type            0\n",
       " Outlet_Type                     0\n",
       " dtype: int64)"
      ]
     },
     "execution_count": 8,
     "metadata": {},
     "output_type": "execute_result"
    }
   ],
   "source": [
    "#lets check if there are any missing values in the training data\n",
    "train_data.isnull().sum(), test_data.isnull().sum()"
   ]
  },
  {
   "cell_type": "code",
   "execution_count": 9,
   "metadata": {
    "colab": {
     "base_uri": "https://localhost:8080/"
    },
    "id": "Q-ZxLGWv9ecE",
    "outputId": "ab04876f-1f42-4cc6-8fd6-f8985091bc2c"
   },
   "outputs": [
    {
     "data": {
      "text/plain": [
       "Item_Identifier               0.000000\n",
       "Item_Weight                  17.165317\n",
       "Item_Fat_Content              0.000000\n",
       "Item_Visibility               0.000000\n",
       "Item_Type                     0.000000\n",
       "Item_MRP                      0.000000\n",
       "Outlet_Identifier             0.000000\n",
       "Outlet_Establishment_Year     0.000000\n",
       "Outlet_Size                  28.276428\n",
       "Outlet_Location_Type          0.000000\n",
       "Outlet_Type                   0.000000\n",
       "Item_Outlet_Sales             0.000000\n",
       "dtype: float64"
      ]
     },
     "execution_count": 9,
     "metadata": {},
     "output_type": "execute_result"
    }
   ],
   "source": [
    "#Since we have missing values, let's see their percentage in our data\n",
    "(train_data.isnull().sum()/train_data.shape[0]) * 100"
   ]
  },
  {
   "cell_type": "code",
   "execution_count": 10,
   "metadata": {
    "colab": {
     "base_uri": "https://localhost:8080/"
    },
    "id": "ReNDUnWlow75",
    "outputId": "c00ef969-cf29-4d92-cd12-431bf6a9d57b"
   },
   "outputs": [
    {
     "data": {
      "text/plain": [
       "Item_Identifier               0.000000\n",
       "Item_Weight                  17.180074\n",
       "Item_Fat_Content              0.000000\n",
       "Item_Visibility               0.000000\n",
       "Item_Type                     0.000000\n",
       "Item_MRP                      0.000000\n",
       "Outlet_Identifier             0.000000\n",
       "Outlet_Establishment_Year     0.000000\n",
       "Outlet_Size                  28.269671\n",
       "Outlet_Location_Type          0.000000\n",
       "Outlet_Type                   0.000000\n",
       "dtype: float64"
      ]
     },
     "execution_count": 10,
     "metadata": {},
     "output_type": "execute_result"
    }
   ],
   "source": [
    "(test_data.isnull().sum()/test_data.shape[0]) * 100"
   ]
  },
  {
   "cell_type": "markdown",
   "metadata": {
    "id": "fbp1LhaTTEgf"
   },
   "source": [
    "Both datasets have the same percentage of missing values also, in the same features..\n",
    "\n",
    "As our dataset only consists of about **8500** records, deleting the rows that has **null** values will not be the most proper action. The dataset is not that big and getting rid of these records might have significant effect.\n",
    "\n",
    "So, we're going to try to fill these empty cells with appropriate methods. We have two columns/ features that have missing values, one with numerical values (**Item_Weight**), and the other has categorical values (**Outlet_Size**)."
   ]
  },
  {
   "cell_type": "markdown",
   "metadata": {
    "id": "DJDRA26FWcGS"
   },
   "source": [
    "Let's firstly work with **Item_Weight**. We can take a look at the data distribution to see how spreaded our data points are and to figure out if there are any outliers.\n",
    "\n",
    "The best way to visualize the above is using ***Box Plots***"
   ]
  },
  {
   "cell_type": "code",
   "execution_count": 11,
   "metadata": {
    "colab": {
     "base_uri": "https://localhost:8080/",
     "height": 472
    },
    "id": "Sxwyt0Oly1eq",
    "outputId": "75cb77a2-a770-4798-ca88-ab212fa5e037"
   },
   "outputs": [
    {
     "data": {
      "image/png": "[encoded data removed]",
      "text/plain": [
       "<Figure size 640x480 with 1 Axes>"
      ]
     },
     "metadata": {},
     "output_type": "display_data"
    }
   ],
   "source": [
    "sns.boxplot(x=train_data.Item_Weight, palette='colorblind')\n",
    "plt.title(\"Item Weight Distribution\");"
   ]
  },
  {
   "cell_type": "markdown",
   "metadata": {
    "id": "ZBFa2--sZ0Y0"
   },
   "source": [
    "Since we did not notice any outliers in our weights, filling the missing rows with the ***mean*** will be the most realistic solution.\n",
    "\n",
    "Having a not so wide range of values also supports this finding."
   ]
  },
  {
   "cell_type": "code",
   "execution_count": 12,
   "metadata": {
    "colab": {
     "base_uri": "https://localhost:8080/"
    },
    "id": "ihlmfmpCYkWl",
    "outputId": "192dc150-9b6c-4519-ae2d-dda190481cf4"
   },
   "outputs": [
    {
     "data": {
      "text/plain": [
       "12.86"
      ]
     },
     "execution_count": 12,
     "metadata": {},
     "output_type": "execute_result"
    }
   ],
   "source": [
    "#let's firstly find the mean\n",
    "weights_mean = round(train_data.Item_Weight.mean(),2)\n",
    "weights_mean"
   ]
  },
  {
   "cell_type": "code",
   "execution_count": 13,
   "metadata": {
    "colab": {
     "base_uri": "https://localhost:8080/"
    },
    "id": "IayXtZ12bdJE",
    "outputId": "91ceb318-1823-4bdb-e136-177750ff9d00"
   },
   "outputs": [
    {
     "data": {
      "text/plain": [
       "Item_Identifier                 0\n",
       "Item_Weight                     0\n",
       "Item_Fat_Content                0\n",
       "Item_Visibility                 0\n",
       "Item_Type                       0\n",
       "Item_MRP                        0\n",
       "Outlet_Identifier               0\n",
       "Outlet_Establishment_Year       0\n",
       "Outlet_Size                  2410\n",
       "Outlet_Location_Type            0\n",
       "Outlet_Type                     0\n",
       "Item_Outlet_Sales               0\n",
       "dtype: int64"
      ]
     },
     "execution_count": 13,
     "metadata": {},
     "output_type": "execute_result"
    }
   ],
   "source": [
    "#Almost as expected.. Now we'll fill the missing values with it\n",
    "train_data.Item_Weight.fillna(weights_mean, inplace=True)\n",
    "#Checking for missing values again\n",
    "train_data.isnull().sum()"
   ]
  },
  {
   "cell_type": "markdown",
   "metadata": {
    "id": "X-ob62LzqAQn"
   },
   "source": [
    "Let's do the same for the testing data.."
   ]
  },
  {
   "cell_type": "code",
   "execution_count": 14,
   "metadata": {
    "colab": {
     "base_uri": "https://localhost:8080/"
    },
    "id": "xliEYOKPqFWJ",
    "outputId": "2414e5b4-2be2-4eba-fd50-4e094e900991"
   },
   "outputs": [
    {
     "data": {
      "text/plain": [
       "Item_Identifier                 0\n",
       "Item_Weight                     0\n",
       "Item_Fat_Content                0\n",
       "Item_Visibility                 0\n",
       "Item_Type                       0\n",
       "Item_MRP                        0\n",
       "Outlet_Identifier               0\n",
       "Outlet_Establishment_Year       0\n",
       "Outlet_Size                  1606\n",
       "Outlet_Location_Type            0\n",
       "Outlet_Type                     0\n",
       "dtype: int64"
      ]
     },
     "execution_count": 14,
     "metadata": {},
     "output_type": "execute_result"
    }
   ],
   "source": [
    "test_data.Item_Weight.fillna(round(test_data.Item_Weight.mean(),2), inplace=True)\n",
    "#Checking for missing values again\n",
    "test_data.isnull().sum()"
   ]
  },
  {
   "cell_type": "markdown",
   "metadata": {
    "id": "gcFY-qR5c9oX"
   },
   "source": [
    "Let's move now to the other feature with missing values, ***Outlet_Size***. We can have a quick overview about the unique values and how frequently each one exists. For categorical values, the most used or usual way to fill the missing values is using the ***mode***, which is the most repeated value, let's see if it would be applicable in our case.\n"
   ]
  },
  {
   "cell_type": "code",
   "execution_count": 15,
   "metadata": {
    "colab": {
     "base_uri": "https://localhost:8080/"
    },
    "id": "tkirRgn1b-xc",
    "outputId": "82dddd69-6d92-4de7-8d24-eb8cec2fcf5b"
   },
   "outputs": [
    {
     "data": {
      "text/plain": [
       "Medium    2793\n",
       "Small     2388\n",
       "High       932\n",
       "Name: Outlet_Size, dtype: int64"
      ]
     },
     "execution_count": 15,
     "metadata": {},
     "output_type": "execute_result"
    }
   ],
   "source": [
    "#we can view the values using value_counts() method in pandas dataframes\n",
    "train_data.Outlet_Size.value_counts()"
   ]
  },
  {
   "cell_type": "code",
   "execution_count": 16,
   "metadata": {
    "colab": {
     "base_uri": "https://localhost:8080/"
    },
    "id": "gR3w0KeTeELy",
    "outputId": "ed48ae03-925f-4a8b-ed80-8dd5cefb8ef4"
   },
   "outputs": [
    {
     "data": {
      "text/plain": [
       "Medium    32.770151\n",
       "Small     28.018303\n",
       "High      10.935117\n",
       "Name: Outlet_Size, dtype: float64"
      ]
     },
     "execution_count": 16,
     "metadata": {},
     "output_type": "execute_result"
    }
   ],
   "source": [
    "#checking the percentage of every value\n",
    "(train_data.Outlet_Size.value_counts()/train_data.shape[0])*100"
   ]
  },
  {
   "cell_type": "markdown",
   "metadata": {
    "id": "IzsdOcuVqpqw"
   },
   "source": [
    "Having the above results, it will never be realistic at all to fill the missing values using the ***mode***. Because the numbers of each of the value's repititions are so close. It would not be fair to easily assume that all the missing records are **Medium**. So we have to guess another solution.\n",
    "\n",
    "*We can do it* 💪"
   ]
  },
  {
   "cell_type": "markdown",
   "metadata": {
    "id": "UeKCTEAPrcth"
   },
   "source": [
    "To do it simple and quick, I used MS Excel ***Pivot Table*** function  on our training data, as follows below:\n",
    "![pivot_train.PNG](data:image/png;base64,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)"
   ]
  },
  {
   "cell_type": "markdown",
   "metadata": {
    "id": "EuhamZPd92xE"
   },
   "source": [
    "From our table, we can reach this summay:\n",
    "\n",
    "\n",
    "*   All *Grocery Store* outlets are *Small* so, we're going to fill all the missing *Sizes* that are corresponding to a *Grocery Store* with *Small*\n",
    "*   We do not actually need any data manipulation for Supermarkets of *Type2* and *Type3*, they are all *Medium* and there are no missing values.\n",
    "\n",
    "*   For *Supermarket Type1* it's a bit complicated but, using *Establishment Years* to divide the table to another level, I reached some observation. The **BigMart** follows the pattern of: **High -> Small -> Medium** when opening new stores all over the years plus, they focus on one size of *Oultlets* each year they are launching.\n",
    "\n",
    "*   Hoping our observation was highly accurate, I will fill the missing *Sizes* for **2002** with **High**, and for **2007** with **Medium**.\n",
    "\n",
    "By the way, the same patterns take place in our testing dataset, as in the below screenshot, so, we'll follow the same steps when preprocessing it later..\n",
    "\n",
    "\n",
    "\n",
    "\n",
    "\n"
   ]
  },
  {
   "cell_type": "markdown",
   "metadata": {
    "id": "R3acOohNIbWI"
   },
   "source": [
    "![image.png](data:image/png;base64,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)"
   ]
  },
  {
   "cell_type": "code",
   "execution_count": 17,
   "metadata": {
    "colab": {
     "base_uri": "https://localhost:8080/"
    },
    "id": "JGLVL5p6N48b",
    "outputId": "5a604d04-5ab1-407b-b2a3-f55fac29a605"
   },
   "outputs": [
    {
     "data": {
      "text/plain": [
       "Item_Identifier                 0\n",
       "Item_Weight                     0\n",
       "Item_Fat_Content                0\n",
       "Item_Visibility                 0\n",
       "Item_Type                       0\n",
       "Item_MRP                        0\n",
       "Outlet_Identifier               0\n",
       "Outlet_Establishment_Year       0\n",
       "Outlet_Size                  1855\n",
       "Outlet_Location_Type            0\n",
       "Outlet_Type                     0\n",
       "Item_Outlet_Sales               0\n",
       "dtype: int64"
      ]
     },
     "execution_count": 17,
     "metadata": {},
     "output_type": "execute_result"
    }
   ],
   "source": [
    "#To fill the grocery stores size\n",
    "for row in range(len(train_data)):\n",
    "    if train_data.loc[row,'Outlet_Type'] == 'Grocery Store':\n",
    "        train_data.loc[row,'Outlet_Size'] = 'Small'\n",
    "#To check the missing values were reduced\n",
    "train_data.isnull().sum()"
   ]
  },
  {
   "cell_type": "code",
   "execution_count": 18,
   "metadata": {
    "colab": {
     "base_uri": "https://localhost:8080/"
    },
    "id": "BDFiRZLDqraz",
    "outputId": "3e15b7ba-16cc-4234-9384-609420739753"
   },
   "outputs": [
    {
     "data": {
      "text/plain": [
       "Item_Identifier                 0\n",
       "Item_Weight                     0\n",
       "Item_Fat_Content                0\n",
       "Item_Visibility                 0\n",
       "Item_Type                       0\n",
       "Item_MRP                        0\n",
       "Outlet_Identifier               0\n",
       "Outlet_Establishment_Year       0\n",
       "Outlet_Size                  1236\n",
       "Outlet_Location_Type            0\n",
       "Outlet_Type                     0\n",
       "dtype: int64"
      ]
     },
     "execution_count": 18,
     "metadata": {},
     "output_type": "execute_result"
    }
   ],
   "source": [
    "#The same for test data\n",
    "for row in range(len(test_data)):\n",
    "    if test_data.loc[row,'Outlet_Type'] == 'Grocery Store':\n",
    "        test_data.loc[row,'Outlet_Size'] = 'Small'\n",
    "#To check the missing values were reduced\n",
    "test_data.isnull().sum()"
   ]
  },
  {
   "cell_type": "markdown",
   "metadata": {},
   "source": [
    "Missing values are shrinking 👌😊"
   ]
  },
  {
   "cell_type": "code",
   "execution_count": 19,
   "metadata": {
    "colab": {
     "base_uri": "https://localhost:8080/"
    },
    "id": "qu0JMCSoOHZC",
    "outputId": "1572ceb0-b547-4953-fc39-45a11ccbce67"
   },
   "outputs": [
    {
     "data": {
      "text/plain": [
       "Item_Identifier              0\n",
       "Item_Weight                  0\n",
       "Item_Fat_Content             0\n",
       "Item_Visibility              0\n",
       "Item_Type                    0\n",
       "Item_MRP                     0\n",
       "Outlet_Identifier            0\n",
       "Outlet_Establishment_Year    0\n",
       "Outlet_Size                  0\n",
       "Outlet_Location_Type         0\n",
       "Outlet_Type                  0\n",
       "Item_Outlet_Sales            0\n",
       "dtype: int64"
      ]
     },
     "execution_count": 19,
     "metadata": {},
     "output_type": "execute_result"
    }
   ],
   "source": [
    "#To fill the type1 stores size\n",
    "for row in range(len(train_data)):\n",
    "    if (train_data.loc[row,'Outlet_Type'] == 'Supermarket Type1' and train_data.loc[row,'Outlet_Establishment_Year'] == 2002):\n",
    "        train_data.loc[row,'Outlet_Size'] = 'High'\n",
    "    if (train_data.loc[row,'Outlet_Type'] == 'Supermarket Type1' and train_data.loc[row,'Outlet_Establishment_Year'] == 2007):\n",
    "        train_data.loc[row,'Outlet_Size'] = 'Medium'\n",
    "#To check the missing values were reduced\n",
    "train_data.isnull().sum()"
   ]
  },
  {
   "cell_type": "code",
   "execution_count": 20,
   "metadata": {
    "colab": {
     "base_uri": "https://localhost:8080/"
    },
    "id": "7-eE3TXcrAJ2",
    "outputId": "f9b3c7e6-11d5-428e-ed53-496f6bffe142"
   },
   "outputs": [
    {
     "data": {
      "text/plain": [
       "Item_Identifier              0\n",
       "Item_Weight                  0\n",
       "Item_Fat_Content             0\n",
       "Item_Visibility              0\n",
       "Item_Type                    0\n",
       "Item_MRP                     0\n",
       "Outlet_Identifier            0\n",
       "Outlet_Establishment_Year    0\n",
       "Outlet_Size                  0\n",
       "Outlet_Location_Type         0\n",
       "Outlet_Type                  0\n",
       "dtype: int64"
      ]
     },
     "execution_count": 20,
     "metadata": {},
     "output_type": "execute_result"
    }
   ],
   "source": [
    "#To fill the type1 stores size\n",
    "for row in range(len(test_data)):\n",
    "    if (test_data.loc[row,'Outlet_Type'] == 'Supermarket Type1' and test_data.loc[row,'Outlet_Establishment_Year'] == 2002):\n",
    "        test_data.loc[row,'Outlet_Size'] = 'High'\n",
    "    if (test_data.loc[row,'Outlet_Type'] == 'Supermarket Type1' and test_data.loc[row,'Outlet_Establishment_Year'] == 2007):\n",
    "        test_data.loc[row,'Outlet_Size'] = 'Medium'\n",
    "#To check the missing values were reduced\n",
    "test_data.isnull().sum()"
   ]
  },
  {
   "cell_type": "markdown",
   "metadata": {},
   "source": [
    "Mission Accomplished ✅"
   ]
  },
  {
   "cell_type": "markdown",
   "metadata": {},
   "source": [
    "\n",
    "\n",
    "After handling our data's missing values, let's go check for duplicates 🔍"
   ]
  },
  {
   "cell_type": "code",
   "execution_count": 21,
   "metadata": {
    "colab": {
     "base_uri": "https://localhost:8080/"
    },
    "id": "gh9sw_yCdby9",
    "outputId": "898f89cf-76ed-4540-a3c3-5431af743d5c"
   },
   "outputs": [
    {
     "data": {
      "text/plain": [
       "(0, 0)"
      ]
     },
     "execution_count": 21,
     "metadata": {},
     "output_type": "execute_result"
    }
   ],
   "source": [
    "train_data.duplicated().sum(), test_data.duplicated().sum()"
   ]
  },
  {
   "cell_type": "markdown",
   "metadata": {
    "id": "pRBTa9C3d1Dz"
   },
   "source": [
    "And we're clear of duplicate records..\n",
    "\n",
    "Now, we'll move to cleaning our categorical data. The features that are believed to be checked on are: ***Item_Fat_Content*** and ***Item_Type***. The others are just identifiers plus, the ***Outlet_Size*** and ***Outlet_Type*** that were previously viewed and taken care of..\n",
    "\n",
    "So let's start with ***Item_Fat_Content***:"
   ]
  },
  {
   "cell_type": "code",
   "execution_count": 22,
   "metadata": {
    "colab": {
     "base_uri": "https://localhost:8080/"
    },
    "id": "t40RLstbOc4w",
    "outputId": "06ca8416-3234-4df8-c233-5ebe3be0ed01"
   },
   "outputs": [
    {
     "data": {
      "text/plain": [
       "(array(['Low Fat', 'Regular', 'low fat', 'LF', 'reg'], dtype=object),\n",
       " array(['Low Fat', 'reg', 'Regular', 'LF', 'low fat'], dtype=object))"
      ]
     },
     "execution_count": 22,
     "metadata": {},
     "output_type": "execute_result"
    }
   ],
   "source": [
    "#we can begin with checking the unique values in the column\n",
    "train_data.Item_Fat_Content.unique(), test_data.Item_Fat_Content.unique()"
   ]
  },
  {
   "cell_type": "markdown",
   "metadata": {
    "id": "G3KUvjEDnd8y"
   },
   "source": [
    "As we see, some of the people responsible for providing our data did not follow the same criteria when providing typical info, such as, referring to the **Low Fat** products with 3 different expressions as above. So, we should unify the three of them under one word/expression."
   ]
  },
  {
   "cell_type": "code",
   "execution_count": 23,
   "metadata": {
    "colab": {
     "base_uri": "https://localhost:8080/"
    },
    "id": "R7ltX5XlnarJ",
    "outputId": "75a0497f-4109-4ca4-c8a3-213364083d59"
   },
   "outputs": [
    {
     "data": {
      "text/plain": [
       "array(['Low Fat', 'Regular'], dtype=object)"
      ]
     },
     "execution_count": 23,
     "metadata": {},
     "output_type": "execute_result"
    }
   ],
   "source": [
    "#we can easily do this using pandas replace() method\n",
    "train_data['Item_Fat_Content'] = train_data['Item_Fat_Content'].replace(to_replace=['low fat', 'LF'], value='Low Fat')\n",
    "train_data['Item_Fat_Content'] = train_data['Item_Fat_Content'].replace(to_replace=['reg'], value='Regular')\n",
    "train_data.Item_Fat_Content.unique()"
   ]
  },
  {
   "cell_type": "code",
   "execution_count": 24,
   "metadata": {
    "colab": {
     "base_uri": "https://localhost:8080/"
    },
    "id": "fQUuSSUCrcLP",
    "outputId": "2d946cb9-f785-4f0e-e3df-244775dfeb6c"
   },
   "outputs": [
    {
     "data": {
      "text/plain": [
       "array(['Low Fat', 'Regular'], dtype=object)"
      ]
     },
     "execution_count": 24,
     "metadata": {},
     "output_type": "execute_result"
    }
   ],
   "source": [
    "#Test data\n",
    "test_data['Item_Fat_Content'] = test_data['Item_Fat_Content'].replace(to_replace=['low fat', 'LF'], value='Low Fat')\n",
    "test_data['Item_Fat_Content'] = test_data['Item_Fat_Content'].replace(to_replace=['reg'], value='Regular')\n",
    "test_data.Item_Fat_Content.unique()"
   ]
  },
  {
   "cell_type": "markdown",
   "metadata": {},
   "source": [
    "***Item_Fat_Content*** ✅\n",
    "\n",
    "***Item_Type*** 👀"
   ]
  },
  {
   "cell_type": "code",
   "execution_count": 25,
   "metadata": {
    "colab": {
     "base_uri": "https://localhost:8080/"
    },
    "id": "TkqhJYTNpGvr",
    "outputId": "b8bf6a7d-38d7-415c-c274-e18a91884b89"
   },
   "outputs": [
    {
     "data": {
      "text/plain": [
       "array(['Dairy', 'Soft Drinks', 'Meat', 'Fruits and Vegetables',\n",
       "       'Household', 'Baking Goods', 'Snack Foods', 'Frozen Foods',\n",
       "       'Breakfast', 'Health and Hygiene', 'Hard Drinks', 'Canned',\n",
       "       'Breads', 'Starchy Foods', 'Others', 'Seafood'], dtype=object)"
      ]
     },
     "execution_count": 25,
     "metadata": {},
     "output_type": "execute_result"
    }
   ],
   "source": [
    "train_data.Item_Type.unique()"
   ]
  },
  {
   "cell_type": "code",
   "execution_count": 26,
   "metadata": {
    "colab": {
     "base_uri": "https://localhost:8080/"
    },
    "id": "7ZjKezUzrpET",
    "outputId": "3a61cb1a-49a1-432c-b658-8ac01628a756"
   },
   "outputs": [
    {
     "data": {
      "text/plain": [
       "array(['Snack Foods', 'Dairy', 'Others', 'Fruits and Vegetables',\n",
       "       'Baking Goods', 'Health and Hygiene', 'Breads', 'Hard Drinks',\n",
       "       'Seafood', 'Soft Drinks', 'Household', 'Frozen Foods', 'Meat',\n",
       "       'Canned', 'Starchy Foods', 'Breakfast'], dtype=object)"
      ]
     },
     "execution_count": 26,
     "metadata": {},
     "output_type": "execute_result"
    }
   ],
   "source": [
    "test_data.Item_Type.unique()"
   ]
  },
  {
   "cell_type": "markdown",
   "metadata": {
    "id": "h-uvpVLdqbdP"
   },
   "source": [
    "Everything seems normal with no duplications nor spelling mistakes..\n",
    "\n",
    "***Item_Fat_Content*** ✅\n",
    "\n",
    "***Item_Type*** ✅"
   ]
  },
  {
   "cell_type": "markdown",
   "metadata": {},
   "source": [
    "Let's go check for outliers in our numerical features: \n",
    "\n",
    "**Item_Visibility** 🔍 \n",
    "\n",
    "**Item_MRP** 🔍 \n",
    "\n",
    "**Item_Outlet_Sales** 🔍\n"
   ]
  },
  {
   "cell_type": "markdown",
   "metadata": {},
   "source": [
    "Let's start with the ***Item_Visibility***, again using *Box Plot*:"
   ]
  },
  {
   "cell_type": "code",
   "execution_count": 27,
   "metadata": {
    "colab": {
     "base_uri": "https://localhost:8080/",
     "height": 472
    },
    "id": "T5ppyh5UqYLA",
    "outputId": "abffdeef-f11c-4291-e39c-b62cfe00c23f"
   },
   "outputs": [
    {
     "data": {
      "image/png": "[encoded data removed]",
      "text/plain": [
       "<Figure size 640x480 with 1 Axes>"
      ]
     },
     "metadata": {},
     "output_type": "display_data"
    }
   ],
   "source": [
    "sns.boxplot(x=train_data.Item_Visibility)\n",
    "plt.title('Item Visibility Distribution');"
   ]
  },
  {
   "cell_type": "markdown",
   "metadata": {
    "id": "mMvUgRjv7W61"
   },
   "source": [
    "As it's so obvious that our column has a lot of *Outliers*, we need to pay attention that the range of data is just between **0** and **1**. Also our column is just representing a propability of how much an item might be seen for a customer. So, we'll just keep the data as it was, as it's meaningless to either delete or edit it..\n",
    "\n",
    "***Item_Visibility*** ✅\n",
    "\n",
    "***Item_MRP*** 👀"
   ]
  },
  {
   "cell_type": "code",
   "execution_count": 28,
   "metadata": {
    "colab": {
     "base_uri": "https://localhost:8080/",
     "height": 472
    },
    "id": "jNsCwFir7MAH",
    "outputId": "4e2ed37d-b2af-4376-fafa-509b9638eaa6"
   },
   "outputs": [
    {
     "data": {
      "image/png": "[encoded data removed]",
      "text/plain": [
       "<Figure size 640x480 with 1 Axes>"
      ]
     },
     "metadata": {},
     "output_type": "display_data"
    }
   ],
   "source": [
    "sns.boxplot(x=train_data.Item_MRP)\n",
    "plt.title('Item MRP Distribution');"
   ]
  },
  {
   "cell_type": "markdown",
   "metadata": {},
   "source": [
    "Nothing weird above..\n",
    "\n",
    "***Item_Visibility*** ✅\n",
    "\n",
    "***Item_MRP*** ✅\n",
    "\n",
    "***Item_Outlet_Sales*** 👀"
   ]
  },
  {
   "cell_type": "code",
   "execution_count": 29,
   "metadata": {
    "colab": {
     "base_uri": "https://localhost:8080/",
     "height": 472
    },
    "id": "_Hoz4gtwBpAx",
    "outputId": "e56d7b02-b279-4f53-a77a-a3bc85d6fcbb"
   },
   "outputs": [
    {
     "data": {
      "image/png": "[encoded data removed]",
      "text/plain": [
       "<Figure size 640x480 with 1 Axes>"
      ]
     },
     "metadata": {},
     "output_type": "display_data"
    }
   ],
   "source": [
    "sns.boxplot(x=train_data.Item_Outlet_Sales)\n",
    "plt.title('Item Outlet Sales Distribution');"
   ]
  },
  {
   "cell_type": "markdown",
   "metadata": {},
   "source": [
    "Let's create a function to read our ***Box Plot***'s limits properly.."
   ]
  },
  {
   "cell_type": "code",
   "execution_count": 30,
   "metadata": {
    "colab": {
     "base_uri": "https://localhost:8080/"
    },
    "id": "f44QwaKACd1Y",
    "outputId": "de09d51d-ad8e-45d4-e6c8-bdf4bf010a18"
   },
   "outputs": [
    {
     "data": {
      "text/plain": [
       "(-2566.3261, 834.2474, 3101.2964, 6501.8699)"
      ]
     },
     "execution_count": 30,
     "metadata": {},
     "output_type": "execute_result"
    }
   ],
   "source": [
    "def remove_outliers(df, feature):\n",
    "    Q1= df[feature].quantile(0.25)\n",
    "    Q3 = df[feature].quantile(0.75)\n",
    "    IQR = Q3 - Q1\n",
    "    upper_limit = Q3 + 1.5 * IQR\n",
    "    lower_limit = Q1 - 1.5 * IQR\n",
    "    return upper_limit, lower_limit, Q1, Q3\n",
    "#upper and lower ranges\n",
    "upper, lower, Q1, Q3 = remove_outliers(train_data, \"Item_Outlet_Sales\")\n",
    "lower, Q1, Q3, upper"
   ]
  },
  {
   "cell_type": "code",
   "execution_count": 31,
   "metadata": {
    "colab": {
     "base_uri": "https://localhost:8080/"
    },
    "id": "NR4i-itEJCDj",
    "outputId": "92cc2f63-101e-4f62-f472-649082af364c"
   },
   "outputs": [
    {
     "data": {
      "text/plain": [
       "186"
      ]
     },
     "execution_count": 31,
     "metadata": {},
     "output_type": "execute_result"
    }
   ],
   "source": [
    "#let's see how much is above the upper limit\n",
    "len(train_data[train_data['Item_Outlet_Sales'] > upper])"
   ]
  },
  {
   "cell_type": "code",
   "execution_count": 32,
   "metadata": {
    "colab": {
     "base_uri": "https://localhost:8080/"
    },
    "id": "l3fLJUHKJlw9",
    "outputId": "0601942d-7a56-40a3-80c7-f1df5e52fa83"
   },
   "outputs": [
    {
     "data": {
      "text/plain": [
       "0"
      ]
     },
     "execution_count": 32,
     "metadata": {},
     "output_type": "execute_result"
    }
   ],
   "source": [
    "len(train_data[train_data['Item_Outlet_Sales'] < lower])"
   ]
  },
  {
   "cell_type": "markdown",
   "metadata": {
    "id": "Nq7DuKT9sG75"
   },
   "source": [
    "Since both amounts of points beyond our limits are so small, we can just drop them out.."
   ]
  },
  {
   "cell_type": "code",
   "execution_count": 33,
   "metadata": {
    "id": "ZTHyQGtXJrg1"
   },
   "outputs": [],
   "source": [
    "#both are negligible\n",
    "train_data=train_data[train_data['Item_Outlet_Sales'] < upper]"
   ]
  },
  {
   "cell_type": "markdown",
   "metadata": {
    "id": "J49nyyxEIbBH"
   },
   "source": [
    "We can also check the total **Sales** per each year.."
   ]
  },
  {
   "cell_type": "code",
   "execution_count": 34,
   "metadata": {
    "colab": {
     "base_uri": "https://localhost:8080/",
     "height": 363
    },
    "id": "LBFkTQdhJ9T8",
    "outputId": "cda1c844-9791-4c56-b506-41c80118a117"
   },
   "outputs": [
    {
     "data": {
      "text/html": [
       "<div>\n",
       "<style scoped>\n",
       "    .dataframe tbody tr th:only-of-type {\n",
       "        vertical-align: middle;\n",
       "    }\n",
       "\n",
       "    .dataframe tbody tr th {\n",
       "        vertical-align: top;\n",
       "    }\n",
       "\n",
       "    .dataframe thead th {\n",
       "        text-align: right;\n",
       "    }\n",
       "</style>\n",
       "<table border=\"1\" class=\"dataframe\">\n",
       "  <thead>\n",
       "    <tr style=\"text-align: right;\">\n",
       "      <th></th>\n",
       "      <th>Item_Outlet_Sales</th>\n",
       "    </tr>\n",
       "    <tr>\n",
       "      <th>Outlet_Establishment_Year</th>\n",
       "      <th></th>\n",
       "    </tr>\n",
       "  </thead>\n",
       "  <tbody>\n",
       "    <tr>\n",
       "      <th>1985</th>\n",
       "      <td>2.821188e+06</td>\n",
       "    </tr>\n",
       "    <tr>\n",
       "      <th>2004</th>\n",
       "      <td>2.153951e+06</td>\n",
       "    </tr>\n",
       "    <tr>\n",
       "      <th>1999</th>\n",
       "      <td>2.106249e+06</td>\n",
       "    </tr>\n",
       "    <tr>\n",
       "      <th>1997</th>\n",
       "      <td>2.042211e+06</td>\n",
       "    </tr>\n",
       "    <tr>\n",
       "      <th>1987</th>\n",
       "      <td>2.033081e+06</td>\n",
       "    </tr>\n",
       "    <tr>\n",
       "      <th>2007</th>\n",
       "      <td>2.025425e+06</td>\n",
       "    </tr>\n",
       "    <tr>\n",
       "      <th>2002</th>\n",
       "      <td>1.966751e+06</td>\n",
       "    </tr>\n",
       "    <tr>\n",
       "      <th>2009</th>\n",
       "      <td>1.831713e+06</td>\n",
       "    </tr>\n",
       "    <tr>\n",
       "      <th>1998</th>\n",
       "      <td>1.883402e+05</td>\n",
       "    </tr>\n",
       "  </tbody>\n",
       "</table>\n",
       "</div>"
      ],
      "text/plain": [
       "                           Item_Outlet_Sales\n",
       "Outlet_Establishment_Year                   \n",
       "1985                            2.821188e+06\n",
       "2004                            2.153951e+06\n",
       "1999                            2.106249e+06\n",
       "1997                            2.042211e+06\n",
       "1987                            2.033081e+06\n",
       "2007                            2.025425e+06\n",
       "2002                            1.966751e+06\n",
       "2009                            1.831713e+06\n",
       "1998                            1.883402e+05"
      ]
     },
     "execution_count": 34,
     "metadata": {},
     "output_type": "execute_result"
    }
   ],
   "source": [
    "Sales_per_Year=train_data.groupby('Outlet_Establishment_Year')[['Item_Outlet_Sales']].sum().sort_values(by='Item_Outlet_Sales', ascending = False)\n",
    "Sales_per_Year"
   ]
  },
  {
   "cell_type": "markdown",
   "metadata": {
    "id": "ym1JfJ7KKdIw"
   },
   "source": [
    "Let's visulaize the above for more clear insights.."
   ]
  },
  {
   "cell_type": "code",
   "execution_count": 35,
   "metadata": {
    "colab": {
     "base_uri": "https://localhost:8080/",
     "height": 472
    },
    "id": "kaAItR9jKZ-5",
    "outputId": "2b0b7351-0b8a-45e8-b203-6b999e441d1a"
   },
   "outputs": [
    {
     "data": {
      "image/png": "[encoded data removed]",
      "text/plain": [
       "<Figure size 640x480 with 1 Axes>"
      ]
     },
     "metadata": {},
     "output_type": "display_data"
    }
   ],
   "source": [
    "sns.lineplot(Sales_per_Year, x=Sales_per_Year.index, y=Sales_per_Year.Item_Outlet_Sales)\n",
    "plt.title('Sales per Year');"
   ]
  },
  {
   "cell_type": "markdown",
   "metadata": {
    "id": "66MxF_OTMb6l"
   },
   "source": [
    "This should give an alert to the BigMart management as the sales are either still or decreasing over the years..\n",
    "\n",
    "To have a deeper look on our data, we can perform some ***Univarite*** and ***Bivariate Analysis***.."
   ]
  },
  {
   "cell_type": "markdown",
   "metadata": {
    "id": "_bXgACZcOcq8"
   },
   "source": [
    "### **Univariate Analysis**\n",
    "\n",
    "\n"
   ]
  },
  {
   "cell_type": "markdown",
   "metadata": {
    "id": "wpoOcag-WlW9"
   },
   "source": [
    "\n",
    "\n",
    "*   *Count of Sales per Item Type*\n",
    "\n"
   ]
  },
  {
   "cell_type": "code",
   "execution_count": 36,
   "metadata": {
    "colab": {
     "base_uri": "https://localhost:8080/",
     "height": 367
    },
    "id": "_Ga_eD7OIwbG",
    "outputId": "e9ef4200-f10b-4270-f649-8981177161b7"
   },
   "outputs": [
    {
     "data": {
      "image/png": "[encoded data removed]",
      "text/plain": [
       "<Figure size 2400x600 with 1 Axes>"
      ]
     },
     "metadata": {},
     "output_type": "display_data"
    }
   ],
   "source": [
    "plt.figure(figsize=(24,6))\n",
    "sns.countplot(x=train_data.Item_Type, color='#00688B');\n",
    "plt.title('Count of Sales per Item Cateory');"
   ]
  },
  {
   "cell_type": "markdown",
   "metadata": {
    "id": "F9ZUGcrOYJUg"
   },
   "source": [
    "Looks like *Fruits and Vegetables* and *Snack Foods* are our top items which makes sense."
   ]
  },
  {
   "cell_type": "markdown",
   "metadata": {
    "id": "f4NqYPXkW6Cp"
   },
   "source": [
    "* *Count of each Outlet Type*"
   ]
  },
  {
   "cell_type": "code",
   "execution_count": 37,
   "metadata": {
    "colab": {
     "base_uri": "https://localhost:8080/",
     "height": 564
    },
    "id": "eqSg6mghVt2z",
    "outputId": "86809c64-cac7-4c0b-b3c7-bd748a83ea10"
   },
   "outputs": [
    {
     "data": {
      "image/png": "[encoded data removed]",
      "text/plain": [
       "<Figure size 1200x600 with 1 Axes>"
      ]
     },
     "metadata": {},
     "output_type": "display_data"
    }
   ],
   "source": [
    "plt.figure(figsize=(12,6))\n",
    "sns.countplot(x=train_data.Outlet_Type, color='#00688B');\n",
    "plt.title('How Many of Each Outlet Type Do We Have?');"
   ]
  },
  {
   "cell_type": "markdown",
   "metadata": {
    "id": "2kKXDY_-YXSN"
   },
   "source": [
    "The above plot is supposed to explain the expected to see big difference in sales when we check on it per **Outlet_Type**."
   ]
  },
  {
   "cell_type": "markdown",
   "metadata": {
    "id": "-AhXSUx-ZSIu"
   },
   "source": [
    "* *Count of Outlets per Size*"
   ]
  },
  {
   "cell_type": "code",
   "execution_count": 38,
   "metadata": {
    "colab": {
     "base_uri": "https://localhost:8080/",
     "height": 472
    },
    "id": "Th9Qq3_jXZio",
    "outputId": "6f0af62b-4185-49ab-b2bb-f4939efa1c32"
   },
   "outputs": [
    {
     "data": {
      "image/png": "[encoded data removed]",
      "text/plain": [
       "<Figure size 640x480 with 1 Axes>"
      ]
     },
     "metadata": {},
     "output_type": "display_data"
    }
   ],
   "source": [
    "sns.countplot(x=train_data.Outlet_Size, color='#00688B');\n",
    "plt.title('Count of Stores Based on Size');"
   ]
  },
  {
   "cell_type": "markdown",
   "metadata": {
    "id": "4yi6m_OhZqdZ"
   },
   "source": [
    "The company is more likely to invest in way more in *Small* and *Medium* stores rather than *High* ones. \n",
    "\n",
    "Does this reflects on ***Sales per Outlet Size***? Let's find out!"
   ]
  },
  {
   "cell_type": "markdown",
   "metadata": {
    "id": "CL2BG31EadAm"
   },
   "source": [
    "### **Bivariate Analysis**"
   ]
  },
  {
   "cell_type": "code",
   "execution_count": 39,
   "metadata": {
    "colab": {
     "base_uri": "https://localhost:8080/",
     "height": 472
    },
    "id": "T8MFbHZbZmwY",
    "outputId": "6495ee58-f1f8-42a7-81e7-34ec930f9a2f"
   },
   "outputs": [
    {
     "data": {
      "image/png": "[encoded data removed]",
      "text/plain": [
       "<Figure size 640x480 with 1 Axes>"
      ]
     },
     "metadata": {},
     "output_type": "display_data"
    }
   ],
   "source": [
    "sns.barplot(train_data, x=train_data.Outlet_Size, y=train_data.Item_Outlet_Sales, color='#00688B')\n",
    "plt.title('Sales per Outlet Size');"
   ]
  },
  {
   "cell_type": "markdown",
   "metadata": {
    "id": "rmKOj83zlCry"
   },
   "source": [
    "So, the answer to our previous question is definetley, No! \n",
    "\n",
    "Despite the *High* size count is way less than the other two, it still acheives high sales to the company.\n",
    "\n",
    "Let us check if this somehow is related to the average of prices ***Item_MRP*** at each kind of store.."
   ]
  },
  {
   "cell_type": "code",
   "execution_count": 40,
   "metadata": {
    "colab": {
     "base_uri": "https://localhost:8080/",
     "height": 175
    },
    "id": "8vn8OKmeGxDu",
    "outputId": "e0bfe83a-df0e-4fd7-d6e1-471390189cbd"
   },
   "outputs": [
    {
     "data": {
      "text/html": [
       "<div>\n",
       "<style scoped>\n",
       "    .dataframe tbody tr th:only-of-type {\n",
       "        vertical-align: middle;\n",
       "    }\n",
       "\n",
       "    .dataframe tbody tr th {\n",
       "        vertical-align: top;\n",
       "    }\n",
       "\n",
       "    .dataframe thead th {\n",
       "        text-align: right;\n",
       "    }\n",
       "</style>\n",
       "<table border=\"1\" class=\"dataframe\">\n",
       "  <thead>\n",
       "    <tr style=\"text-align: right;\">\n",
       "      <th></th>\n",
       "      <th>Item_MRP</th>\n",
       "    </tr>\n",
       "    <tr>\n",
       "      <th>Outlet_Size</th>\n",
       "      <th></th>\n",
       "    </tr>\n",
       "  </thead>\n",
       "  <tbody>\n",
       "    <tr>\n",
       "      <th>Small</th>\n",
       "      <td>140.949433</td>\n",
       "    </tr>\n",
       "    <tr>\n",
       "      <th>High</th>\n",
       "      <td>139.973693</td>\n",
       "    </tr>\n",
       "    <tr>\n",
       "      <th>Medium</th>\n",
       "      <td>137.288533</td>\n",
       "    </tr>\n",
       "  </tbody>\n",
       "</table>\n",
       "</div>"
      ],
      "text/plain": [
       "               Item_MRP\n",
       "Outlet_Size            \n",
       "Small        140.949433\n",
       "High         139.973693\n",
       "Medium       137.288533"
      ]
     },
     "execution_count": 40,
     "metadata": {},
     "output_type": "execute_result"
    }
   ],
   "source": [
    "train_data.groupby('Outlet_Size')[['Item_MRP']].mean().sort_values(by='Item_MRP', ascending=False)"
   ]
  },
  {
   "cell_type": "markdown",
   "metadata": {
    "id": "PDk64B0RnXQd"
   },
   "source": [
    "So, the *Small* stores have the highest average of prices but not high enough to compete the other types in the total revenue..\n",
    "\n",
    "Going on with investigating how our *Sales* are achieved, let's see how much do we sell per ***Item_Type***"
   ]
  },
  {
   "cell_type": "code",
   "execution_count": 41,
   "metadata": {
    "colab": {
     "base_uri": "https://localhost:8080/",
     "height": 367
    },
    "id": "tbIjG7h5k4OA",
    "outputId": "63b80221-5ca8-4ae1-b2bb-ea0a741131ca"
   },
   "outputs": [
    {
     "data": {
      "image/png": "[encoded data removed]",
      "text/plain": [
       "<Figure size 2400x600 with 1 Axes>"
      ]
     },
     "metadata": {},
     "output_type": "display_data"
    }
   ],
   "source": [
    "plt.figure(figsize=(24,6))\n",
    "sns.barplot(train_data, x=train_data.Item_Type, y=train_data.Item_Outlet_Sales, color='#00688B')\n",
    "plt.title('Revenue per Item Type');"
   ]
  },
  {
   "cell_type": "markdown",
   "metadata": {
    "id": "L8rpbtNXoEAe"
   },
   "source": [
    "WOW! Despite *Seafood* came least in terms of number of *Sales*, it's coming first now in the revenue entered to the company per item."
   ]
  },
  {
   "cell_type": "markdown",
   "metadata": {
    "id": "Z4TrweVpodGt"
   },
   "source": [
    "Let us discover our top 3 selling stores and which Tier do they belong to.."
   ]
  },
  {
   "cell_type": "code",
   "execution_count": 42,
   "metadata": {
    "colab": {
     "base_uri": "https://localhost:8080/",
     "height": 175
    },
    "id": "wEtYnkNYnukP",
    "outputId": "e3cd217f-1fd0-483f-fcf9-cafb3d0df76a"
   },
   "outputs": [
    {
     "data": {
      "text/html": [
       "<div>\n",
       "<style scoped>\n",
       "    .dataframe tbody tr th:only-of-type {\n",
       "        vertical-align: middle;\n",
       "    }\n",
       "\n",
       "    .dataframe tbody tr th {\n",
       "        vertical-align: top;\n",
       "    }\n",
       "\n",
       "    .dataframe thead th {\n",
       "        text-align: right;\n",
       "    }\n",
       "</style>\n",
       "<table border=\"1\" class=\"dataframe\">\n",
       "  <thead>\n",
       "    <tr style=\"text-align: right;\">\n",
       "      <th></th>\n",
       "      <th></th>\n",
       "      <th>Item_Outlet_Sales</th>\n",
       "    </tr>\n",
       "    <tr>\n",
       "      <th>Outlet_Identifier</th>\n",
       "      <th>Outlet_Location_Type</th>\n",
       "      <th></th>\n",
       "    </tr>\n",
       "  </thead>\n",
       "  <tbody>\n",
       "    <tr>\n",
       "      <th>OUT027</th>\n",
       "      <th>Tier 3</th>\n",
       "      <td>2.641494e+06</td>\n",
       "    </tr>\n",
       "    <tr>\n",
       "      <th>OUT035</th>\n",
       "      <th>Tier 2</th>\n",
       "      <td>2.153951e+06</td>\n",
       "    </tr>\n",
       "    <tr>\n",
       "      <th>OUT049</th>\n",
       "      <th>Tier 1</th>\n",
       "      <td>2.106249e+06</td>\n",
       "    </tr>\n",
       "  </tbody>\n",
       "</table>\n",
       "</div>"
      ],
      "text/plain": [
       "                                        Item_Outlet_Sales\n",
       "Outlet_Identifier Outlet_Location_Type                   \n",
       "OUT027            Tier 3                     2.641494e+06\n",
       "OUT035            Tier 2                     2.153951e+06\n",
       "OUT049            Tier 1                     2.106249e+06"
      ]
     },
     "execution_count": 42,
     "metadata": {},
     "output_type": "execute_result"
    }
   ],
   "source": [
    "train_data.groupby(['Outlet_Identifier', 'Outlet_Location_Type'])[['Item_Outlet_Sales']].sum().sort_values(by='Item_Outlet_Sales', ascending = False).head(3)"
   ]
  },
  {
   "cell_type": "markdown",
   "metadata": {
    "id": "YkrWcnyPp2p1"
   },
   "source": [
    "Looks like the ***Tier*** the store belongs to does not make much difference in the Revenue. To double check, let's visualize the Revenue per each ***Tier***"
   ]
  },
  {
   "cell_type": "code",
   "execution_count": 43,
   "metadata": {
    "colab": {
     "base_uri": "https://localhost:8080/",
     "height": 472
    },
    "id": "VV_HwGvDpvzq",
    "outputId": "a1fe1e82-226b-4228-debd-b48fd4dceef7"
   },
   "outputs": [
    {
     "data": {
      "image/png": "[encoded data removed]",
      "text/plain": [
       "<Figure size 640x480 with 1 Axes>"
      ]
     },
     "metadata": {},
     "output_type": "display_data"
    }
   ],
   "source": [
    "sns.barplot(train_data, x=train_data.Outlet_Location_Type, y=train_data.Item_Outlet_Sales, color='#00688B')\n",
    "plt.title('Revenue per Tier');"
   ]
  },
  {
   "cell_type": "markdown",
   "metadata": {
    "id": "toFieWuDqcTa"
   },
   "source": [
    "Just as expected, no big difference noted!\n",
    "\n",
    "Let's finally check the relevancy between ***Item_Visibility*** and Revenue\n"
   ]
  },
  {
   "cell_type": "code",
   "execution_count": 44,
   "metadata": {
    "colab": {
     "base_uri": "https://localhost:8080/",
     "height": 472
    },
    "id": "Hzm4KYK1qboO",
    "outputId": "ee8707f7-bb10-43c6-eeb6-a76fd564a92a"
   },
   "outputs": [
    {
     "data": {
      "image/png": "[encoded data removed]",
      "text/plain": [
       "<Figure size 640x480 with 1 Axes>"
      ]
     },
     "metadata": {},
     "output_type": "display_data"
    }
   ],
   "source": [
    "sns.scatterplot(train_data, x='Item_Visibility', y='Item_Outlet_Sales')\n",
    "plt.title('Visibility vs Sales');"
   ]
  },
  {
   "cell_type": "markdown",
   "metadata": {
    "id": "56waHMr7w_mK"
   },
   "source": [
    "I can call the above visualization, scary! \n",
    "\n",
    "Because if the revenue decreases when the items visibility increases, even if this applies on a small range of the data, there must be something wrong. Maybe the planning team of the stores need to reorganize and reallocate the goods in the stores."
   ]
  },
  {
   "cell_type": "markdown",
   "metadata": {
    "id": "hMHccCSPX6b3"
   },
   "source": [
    "### **Encoding Categorical Values**\n",
    "\n",
    "When transforming categorical variables into numerical ones we follow these methods:\n",
    "\n",
    "\n",
    "*   For Ordinal data, we use ***Label Encoding***\n",
    "*   For Nominal data, we use ***One Hot Encoding***\n",
    "\n"
   ]
  },
  {
   "cell_type": "markdown",
   "metadata": {
    "id": "B5RW1AHzbrhf"
   },
   "source": [
    "#### **Label Encoding**"
   ]
  },
  {
   "cell_type": "code",
   "execution_count": 45,
   "metadata": {
    "colab": {
     "base_uri": "https://localhost:8080/",
     "height": 288
    },
    "id": "9IkPisvRqVPw",
    "outputId": "9a78437e-cde5-42d5-f24e-21790514e767"
   },
   "outputs": [
    {
     "data": {
      "text/html": [
       "<div>\n",
       "<style scoped>\n",
       "    .dataframe tbody tr th:only-of-type {\n",
       "        vertical-align: middle;\n",
       "    }\n",
       "\n",
       "    .dataframe tbody tr th {\n",
       "        vertical-align: top;\n",
       "    }\n",
       "\n",
       "    .dataframe thead th {\n",
       "        text-align: right;\n",
       "    }\n",
       "</style>\n",
       "<table border=\"1\" class=\"dataframe\">\n",
       "  <thead>\n",
       "    <tr style=\"text-align: right;\">\n",
       "      <th></th>\n",
       "      <th>Item_Identifier</th>\n",
       "      <th>Item_Weight</th>\n",
       "      <th>Item_Fat_Content</th>\n",
       "      <th>Item_Visibility</th>\n",
       "      <th>Item_Type</th>\n",
       "      <th>Item_MRP</th>\n",
       "      <th>Outlet_Identifier</th>\n",
       "      <th>Outlet_Establishment_Year</th>\n",
       "      <th>Outlet_Size</th>\n",
       "      <th>Outlet_Location_Type</th>\n",
       "      <th>Outlet_Type</th>\n",
       "      <th>Item_Outlet_Sales</th>\n",
       "    </tr>\n",
       "  </thead>\n",
       "  <tbody>\n",
       "    <tr>\n",
       "      <th>0</th>\n",
       "      <td>FDA15</td>\n",
       "      <td>9.30</td>\n",
       "      <td>0</td>\n",
       "      <td>0.016047</td>\n",
       "      <td>Dairy</td>\n",
       "      <td>249.8092</td>\n",
       "      <td>OUT049</td>\n",
       "      <td>4</td>\n",
       "      <td>1</td>\n",
       "      <td>0</td>\n",
       "      <td>1</td>\n",
       "      <td>3735.1380</td>\n",
       "    </tr>\n",
       "    <tr>\n",
       "      <th>1</th>\n",
       "      <td>DRC01</td>\n",
       "      <td>5.92</td>\n",
       "      <td>1</td>\n",
       "      <td>0.019278</td>\n",
       "      <td>Soft Drinks</td>\n",
       "      <td>48.2692</td>\n",
       "      <td>OUT018</td>\n",
       "      <td>8</td>\n",
       "      <td>1</td>\n",
       "      <td>2</td>\n",
       "      <td>2</td>\n",
       "      <td>443.4228</td>\n",
       "    </tr>\n",
       "    <tr>\n",
       "      <th>2</th>\n",
       "      <td>FDN15</td>\n",
       "      <td>17.50</td>\n",
       "      <td>0</td>\n",
       "      <td>0.016760</td>\n",
       "      <td>Meat</td>\n",
       "      <td>141.6180</td>\n",
       "      <td>OUT049</td>\n",
       "      <td>4</td>\n",
       "      <td>1</td>\n",
       "      <td>0</td>\n",
       "      <td>1</td>\n",
       "      <td>2097.2700</td>\n",
       "    </tr>\n",
       "    <tr>\n",
       "      <th>3</th>\n",
       "      <td>FDX07</td>\n",
       "      <td>19.20</td>\n",
       "      <td>1</td>\n",
       "      <td>0.000000</td>\n",
       "      <td>Fruits and Vegetables</td>\n",
       "      <td>182.0950</td>\n",
       "      <td>OUT010</td>\n",
       "      <td>3</td>\n",
       "      <td>2</td>\n",
       "      <td>2</td>\n",
       "      <td>0</td>\n",
       "      <td>732.3800</td>\n",
       "    </tr>\n",
       "    <tr>\n",
       "      <th>4</th>\n",
       "      <td>NCD19</td>\n",
       "      <td>8.93</td>\n",
       "      <td>0</td>\n",
       "      <td>0.000000</td>\n",
       "      <td>Household</td>\n",
       "      <td>53.8614</td>\n",
       "      <td>OUT013</td>\n",
       "      <td>1</td>\n",
       "      <td>0</td>\n",
       "      <td>2</td>\n",
       "      <td>1</td>\n",
       "      <td>994.7052</td>\n",
       "    </tr>\n",
       "  </tbody>\n",
       "</table>\n",
       "</div>"
      ],
      "text/plain": [
       "  Item_Identifier  Item_Weight  Item_Fat_Content  Item_Visibility  \\\n",
       "0           FDA15         9.30                 0         0.016047   \n",
       "1           DRC01         5.92                 1         0.019278   \n",
       "2           FDN15        17.50                 0         0.016760   \n",
       "3           FDX07        19.20                 1         0.000000   \n",
       "4           NCD19         8.93                 0         0.000000   \n",
       "\n",
       "               Item_Type  Item_MRP Outlet_Identifier  \\\n",
       "0                  Dairy  249.8092            OUT049   \n",
       "1            Soft Drinks   48.2692            OUT018   \n",
       "2                   Meat  141.6180            OUT049   \n",
       "3  Fruits and Vegetables  182.0950            OUT010   \n",
       "4              Household   53.8614            OUT013   \n",
       "\n",
       "   Outlet_Establishment_Year  Outlet_Size  Outlet_Location_Type  Outlet_Type  \\\n",
       "0                          4            1                     0            1   \n",
       "1                          8            1                     2            2   \n",
       "2                          4            1                     0            1   \n",
       "3                          3            2                     2            0   \n",
       "4                          1            0                     2            1   \n",
       "\n",
       "   Item_Outlet_Sales  \n",
       "0          3735.1380  \n",
       "1           443.4228  \n",
       "2          2097.2700  \n",
       "3           732.3800  \n",
       "4           994.7052  "
      ]
     },
     "execution_count": 45,
     "metadata": {},
     "output_type": "execute_result"
    }
   ],
   "source": [
    "ordinals = ['Item_Fat_Content', 'Outlet_Type', 'Outlet_Location_Type', 'Outlet_Size', 'Outlet_Establishment_Year']\n",
    "le = LabelEncoder()\n",
    "\n",
    "for col in ordinals:\n",
    "    train_data[col] = le.fit_transform(train_data[col])\n",
    "\n",
    "train_data.head()"
   ]
  },
  {
   "cell_type": "code",
   "execution_count": 46,
   "metadata": {
    "colab": {
     "base_uri": "https://localhost:8080/",
     "height": 305
    },
    "id": "pwuqsdfIleh8",
    "outputId": "40b497dd-d634-4518-c711-34f91a48e306"
   },
   "outputs": [
    {
     "data": {
      "text/html": [
       "<div>\n",
       "<style scoped>\n",
       "    .dataframe tbody tr th:only-of-type {\n",
       "        vertical-align: middle;\n",
       "    }\n",
       "\n",
       "    .dataframe tbody tr th {\n",
       "        vertical-align: top;\n",
       "    }\n",
       "\n",
       "    .dataframe thead th {\n",
       "        text-align: right;\n",
       "    }\n",
       "</style>\n",
       "<table border=\"1\" class=\"dataframe\">\n",
       "  <thead>\n",
       "    <tr style=\"text-align: right;\">\n",
       "      <th></th>\n",
       "      <th>Item_Identifier</th>\n",
       "      <th>Item_Weight</th>\n",
       "      <th>Item_Fat_Content</th>\n",
       "      <th>Item_Visibility</th>\n",
       "      <th>Item_Type</th>\n",
       "      <th>Item_MRP</th>\n",
       "      <th>Outlet_Identifier</th>\n",
       "      <th>Outlet_Establishment_Year</th>\n",
       "      <th>Outlet_Size</th>\n",
       "      <th>Outlet_Location_Type</th>\n",
       "      <th>Outlet_Type</th>\n",
       "    </tr>\n",
       "  </thead>\n",
       "  <tbody>\n",
       "    <tr>\n",
       "      <th>0</th>\n",
       "      <td>FDW58</td>\n",
       "      <td>20.750</td>\n",
       "      <td>0</td>\n",
       "      <td>0.007565</td>\n",
       "      <td>Snack Foods</td>\n",
       "      <td>107.8622</td>\n",
       "      <td>OUT049</td>\n",
       "      <td>4</td>\n",
       "      <td>1</td>\n",
       "      <td>0</td>\n",
       "      <td>1</td>\n",
       "    </tr>\n",
       "    <tr>\n",
       "      <th>1</th>\n",
       "      <td>FDW14</td>\n",
       "      <td>8.300</td>\n",
       "      <td>1</td>\n",
       "      <td>0.038428</td>\n",
       "      <td>Dairy</td>\n",
       "      <td>87.3198</td>\n",
       "      <td>OUT017</td>\n",
       "      <td>7</td>\n",
       "      <td>1</td>\n",
       "      <td>1</td>\n",
       "      <td>1</td>\n",
       "    </tr>\n",
       "    <tr>\n",
       "      <th>2</th>\n",
       "      <td>NCN55</td>\n",
       "      <td>14.600</td>\n",
       "      <td>0</td>\n",
       "      <td>0.099575</td>\n",
       "      <td>Others</td>\n",
       "      <td>241.7538</td>\n",
       "      <td>OUT010</td>\n",
       "      <td>3</td>\n",
       "      <td>2</td>\n",
       "      <td>2</td>\n",
       "      <td>0</td>\n",
       "    </tr>\n",
       "    <tr>\n",
       "      <th>3</th>\n",
       "      <td>FDQ58</td>\n",
       "      <td>7.315</td>\n",
       "      <td>0</td>\n",
       "      <td>0.015388</td>\n",
       "      <td>Snack Foods</td>\n",
       "      <td>155.0340</td>\n",
       "      <td>OUT017</td>\n",
       "      <td>7</td>\n",
       "      <td>1</td>\n",
       "      <td>1</td>\n",
       "      <td>1</td>\n",
       "    </tr>\n",
       "    <tr>\n",
       "      <th>4</th>\n",
       "      <td>FDY38</td>\n",
       "      <td>12.700</td>\n",
       "      <td>1</td>\n",
       "      <td>0.118599</td>\n",
       "      <td>Dairy</td>\n",
       "      <td>234.2300</td>\n",
       "      <td>OUT027</td>\n",
       "      <td>0</td>\n",
       "      <td>1</td>\n",
       "      <td>2</td>\n",
       "      <td>3</td>\n",
       "    </tr>\n",
       "  </tbody>\n",
       "</table>\n",
       "</div>"
      ],
      "text/plain": [
       "  Item_Identifier  Item_Weight  Item_Fat_Content  Item_Visibility  \\\n",
       "0           FDW58       20.750                 0         0.007565   \n",
       "1           FDW14        8.300                 1         0.038428   \n",
       "2           NCN55       14.600                 0         0.099575   \n",
       "3           FDQ58        7.315                 0         0.015388   \n",
       "4           FDY38       12.700                 1         0.118599   \n",
       "\n",
       "     Item_Type  Item_MRP Outlet_Identifier  Outlet_Establishment_Year  \\\n",
       "0  Snack Foods  107.8622            OUT049                          4   \n",
       "1        Dairy   87.3198            OUT017                          7   \n",
       "2       Others  241.7538            OUT010                          3   \n",
       "3  Snack Foods  155.0340            OUT017                          7   \n",
       "4        Dairy  234.2300            OUT027                          0   \n",
       "\n",
       "   Outlet_Size  Outlet_Location_Type  Outlet_Type  \n",
       "0            1                     0            1  \n",
       "1            1                     1            1  \n",
       "2            2                     2            0  \n",
       "3            1                     1            1  \n",
       "4            1                     2            3  "
      ]
     },
     "execution_count": 46,
     "metadata": {},
     "output_type": "execute_result"
    }
   ],
   "source": [
    "#Repeating for test data\n",
    "for col in ordinals:\n",
    "    test_data[col] = le.fit_transform(test_data[col])\n",
    "\n",
    "test_data.head()"
   ]
  },
  {
   "cell_type": "markdown",
   "metadata": {
    "id": "pExLLPwzb2jF"
   },
   "source": [
    "#### **One Hot Encoding**"
   ]
  },
  {
   "cell_type": "code",
   "execution_count": 47,
   "metadata": {
    "colab": {
     "base_uri": "https://localhost:8080/",
     "height": 369
    },
    "id": "o_1SKpNkbjBB",
    "outputId": "44721dab-d49f-4c39-fa3b-39be0b3f36e4"
   },
   "outputs": [
    {
     "name": "stderr",
     "output_type": "stream",
     "text": [
      "C:\\ProgramData\\anaconda3\\lib\\site-packages\\sklearn\\preprocessing\\_encoders.py:828: FutureWarning: `sparse` was renamed to `sparse_output` in version 1.2 and will be removed in 1.4. `sparse_output` is ignored unless you leave `sparse` to its default value.\n",
      "  warnings.warn(\n"
     ]
    },
    {
     "data": {
      "text/html": [
       "<div>\n",
       "<style scoped>\n",
       "    .dataframe tbody tr th:only-of-type {\n",
       "        vertical-align: middle;\n",
       "    }\n",
       "\n",
       "    .dataframe tbody tr th {\n",
       "        vertical-align: top;\n",
       "    }\n",
       "\n",
       "    .dataframe thead th {\n",
       "        text-align: right;\n",
       "    }\n",
       "</style>\n",
       "<table border=\"1\" class=\"dataframe\">\n",
       "  <thead>\n",
       "    <tr style=\"text-align: right;\">\n",
       "      <th></th>\n",
       "      <th>Item_Identifier</th>\n",
       "      <th>Item_Weight</th>\n",
       "      <th>Item_Fat_Content</th>\n",
       "      <th>Item_Visibility</th>\n",
       "      <th>Item_Type</th>\n",
       "      <th>Item_MRP</th>\n",
       "      <th>Outlet_Identifier</th>\n",
       "      <th>Outlet_Establishment_Year</th>\n",
       "      <th>Outlet_Size</th>\n",
       "      <th>Outlet_Location_Type</th>\n",
       "      <th>...</th>\n",
       "      <th>Item_Type_Fruits and Vegetables</th>\n",
       "      <th>Item_Type_Hard Drinks</th>\n",
       "      <th>Item_Type_Health and Hygiene</th>\n",
       "      <th>Item_Type_Household</th>\n",
       "      <th>Item_Type_Meat</th>\n",
       "      <th>Item_Type_Others</th>\n",
       "      <th>Item_Type_Seafood</th>\n",
       "      <th>Item_Type_Snack Foods</th>\n",
       "      <th>Item_Type_Soft Drinks</th>\n",
       "      <th>Item_Type_Starchy Foods</th>\n",
       "    </tr>\n",
       "  </thead>\n",
       "  <tbody>\n",
       "    <tr>\n",
       "      <th>0</th>\n",
       "      <td>FDA15</td>\n",
       "      <td>9.30</td>\n",
       "      <td>0</td>\n",
       "      <td>0.016047</td>\n",
       "      <td>Dairy</td>\n",
       "      <td>249.8092</td>\n",
       "      <td>OUT049</td>\n",
       "      <td>4</td>\n",
       "      <td>1</td>\n",
       "      <td>0</td>\n",
       "      <td>...</td>\n",
       "      <td>0</td>\n",
       "      <td>0</td>\n",
       "      <td>0</td>\n",
       "      <td>0</td>\n",
       "      <td>0</td>\n",
       "      <td>0</td>\n",
       "      <td>0</td>\n",
       "      <td>0</td>\n",
       "      <td>0</td>\n",
       "      <td>0</td>\n",
       "    </tr>\n",
       "    <tr>\n",
       "      <th>1</th>\n",
       "      <td>DRC01</td>\n",
       "      <td>5.92</td>\n",
       "      <td>1</td>\n",
       "      <td>0.019278</td>\n",
       "      <td>Soft Drinks</td>\n",
       "      <td>48.2692</td>\n",
       "      <td>OUT018</td>\n",
       "      <td>8</td>\n",
       "      <td>1</td>\n",
       "      <td>2</td>\n",
       "      <td>...</td>\n",
       "      <td>0</td>\n",
       "      <td>0</td>\n",
       "      <td>0</td>\n",
       "      <td>0</td>\n",
       "      <td>0</td>\n",
       "      <td>0</td>\n",
       "      <td>0</td>\n",
       "      <td>0</td>\n",
       "      <td>1</td>\n",
       "      <td>0</td>\n",
       "    </tr>\n",
       "    <tr>\n",
       "      <th>2</th>\n",
       "      <td>FDN15</td>\n",
       "      <td>17.50</td>\n",
       "      <td>0</td>\n",
       "      <td>0.016760</td>\n",
       "      <td>Meat</td>\n",
       "      <td>141.6180</td>\n",
       "      <td>OUT049</td>\n",
       "      <td>4</td>\n",
       "      <td>1</td>\n",
       "      <td>0</td>\n",
       "      <td>...</td>\n",
       "      <td>0</td>\n",
       "      <td>0</td>\n",
       "      <td>0</td>\n",
       "      <td>0</td>\n",
       "      <td>1</td>\n",
       "      <td>0</td>\n",
       "      <td>0</td>\n",
       "      <td>0</td>\n",
       "      <td>0</td>\n",
       "      <td>0</td>\n",
       "    </tr>\n",
       "    <tr>\n",
       "      <th>3</th>\n",
       "      <td>FDX07</td>\n",
       "      <td>19.20</td>\n",
       "      <td>1</td>\n",
       "      <td>0.000000</td>\n",
       "      <td>Fruits and Vegetables</td>\n",
       "      <td>182.0950</td>\n",
       "      <td>OUT010</td>\n",
       "      <td>3</td>\n",
       "      <td>2</td>\n",
       "      <td>2</td>\n",
       "      <td>...</td>\n",
       "      <td>1</td>\n",
       "      <td>0</td>\n",
       "      <td>0</td>\n",
       "      <td>0</td>\n",
       "      <td>0</td>\n",
       "      <td>0</td>\n",
       "      <td>0</td>\n",
       "      <td>0</td>\n",
       "      <td>0</td>\n",
       "      <td>0</td>\n",
       "    </tr>\n",
       "    <tr>\n",
       "      <th>4</th>\n",
       "      <td>NCD19</td>\n",
       "      <td>8.93</td>\n",
       "      <td>0</td>\n",
       "      <td>0.000000</td>\n",
       "      <td>Household</td>\n",
       "      <td>53.8614</td>\n",
       "      <td>OUT013</td>\n",
       "      <td>1</td>\n",
       "      <td>0</td>\n",
       "      <td>2</td>\n",
       "      <td>...</td>\n",
       "      <td>0</td>\n",
       "      <td>0</td>\n",
       "      <td>0</td>\n",
       "      <td>1</td>\n",
       "      <td>0</td>\n",
       "      <td>0</td>\n",
       "      <td>0</td>\n",
       "      <td>0</td>\n",
       "      <td>0</td>\n",
       "      <td>0</td>\n",
       "    </tr>\n",
       "  </tbody>\n",
       "</table>\n",
       "<p>5 rows × 28 columns</p>\n",
       "</div>"
      ],
      "text/plain": [
       "  Item_Identifier  Item_Weight  Item_Fat_Content  Item_Visibility  \\\n",
       "0           FDA15         9.30                 0         0.016047   \n",
       "1           DRC01         5.92                 1         0.019278   \n",
       "2           FDN15        17.50                 0         0.016760   \n",
       "3           FDX07        19.20                 1         0.000000   \n",
       "4           NCD19         8.93                 0         0.000000   \n",
       "\n",
       "               Item_Type  Item_MRP Outlet_Identifier  \\\n",
       "0                  Dairy  249.8092            OUT049   \n",
       "1            Soft Drinks   48.2692            OUT018   \n",
       "2                   Meat  141.6180            OUT049   \n",
       "3  Fruits and Vegetables  182.0950            OUT010   \n",
       "4              Household   53.8614            OUT013   \n",
       "\n",
       "   Outlet_Establishment_Year  Outlet_Size  Outlet_Location_Type  ...  \\\n",
       "0                          4            1                     0  ...   \n",
       "1                          8            1                     2  ...   \n",
       "2                          4            1                     0  ...   \n",
       "3                          3            2                     2  ...   \n",
       "4                          1            0                     2  ...   \n",
       "\n",
       "   Item_Type_Fruits and Vegetables  Item_Type_Hard Drinks  \\\n",
       "0                                0                      0   \n",
       "1                                0                      0   \n",
       "2                                0                      0   \n",
       "3                                1                      0   \n",
       "4                                0                      0   \n",
       "\n",
       "   Item_Type_Health and Hygiene  Item_Type_Household  Item_Type_Meat  \\\n",
       "0                             0                    0               0   \n",
       "1                             0                    0               0   \n",
       "2                             0                    0               1   \n",
       "3                             0                    0               0   \n",
       "4                             0                    1               0   \n",
       "\n",
       "   Item_Type_Others  Item_Type_Seafood  Item_Type_Snack Foods  \\\n",
       "0                 0                  0                      0   \n",
       "1                 0                  0                      0   \n",
       "2                 0                  0                      0   \n",
       "3                 0                  0                      0   \n",
       "4                 0                  0                      0   \n",
       "\n",
       "   Item_Type_Soft Drinks  Item_Type_Starchy Foods  \n",
       "0                      0                        0  \n",
       "1                      1                        0  \n",
       "2                      0                        0  \n",
       "3                      0                        0  \n",
       "4                      0                        0  \n",
       "\n",
       "[5 rows x 28 columns]"
      ]
     },
     "execution_count": 47,
     "metadata": {},
     "output_type": "execute_result"
    }
   ],
   "source": [
    "nominals = ['Item_Type']\n",
    "ohe = OneHotEncoder(handle_unknown='ignore', sparse=False)\n",
    "data_oh = pd.DataFrame(ohe.fit_transform(train_data[nominals])).astype('int64')\n",
    "\n",
    "#get feature columns\n",
    "data_oh.columns = ohe.get_feature_names_out(nominals)\n",
    "#One-hot encoding removed index; put it back\n",
    "data_oh.index = train_data.index\n",
    "\n",
    "#Data after feature engineering\n",
    "data_fe = pd.concat([train_data, data_oh], axis=1)\n",
    "data_fe.head()"
   ]
  },
  {
   "cell_type": "code",
   "execution_count": 48,
   "metadata": {
    "colab": {
     "base_uri": "https://localhost:8080/",
     "height": 386
    },
    "id": "R47Z_fmJt1w4",
    "outputId": "3a1c7be8-9cfb-498c-d86b-70b06d8a18bc"
   },
   "outputs": [
    {
     "name": "stderr",
     "output_type": "stream",
     "text": [
      "C:\\ProgramData\\anaconda3\\lib\\site-packages\\sklearn\\preprocessing\\_encoders.py:828: FutureWarning: `sparse` was renamed to `sparse_output` in version 1.2 and will be removed in 1.4. `sparse_output` is ignored unless you leave `sparse` to its default value.\n",
      "  warnings.warn(\n"
     ]
    },
    {
     "data": {
      "text/html": [
       "<div>\n",
       "<style scoped>\n",
       "    .dataframe tbody tr th:only-of-type {\n",
       "        vertical-align: middle;\n",
       "    }\n",
       "\n",
       "    .dataframe tbody tr th {\n",
       "        vertical-align: top;\n",
       "    }\n",
       "\n",
       "    .dataframe thead th {\n",
       "        text-align: right;\n",
       "    }\n",
       "</style>\n",
       "<table border=\"1\" class=\"dataframe\">\n",
       "  <thead>\n",
       "    <tr style=\"text-align: right;\">\n",
       "      <th></th>\n",
       "      <th>Item_Identifier</th>\n",
       "      <th>Item_Weight</th>\n",
       "      <th>Item_Fat_Content</th>\n",
       "      <th>Item_Visibility</th>\n",
       "      <th>Item_Type</th>\n",
       "      <th>Item_MRP</th>\n",
       "      <th>Outlet_Identifier</th>\n",
       "      <th>Outlet_Establishment_Year</th>\n",
       "      <th>Outlet_Size</th>\n",
       "      <th>Outlet_Location_Type</th>\n",
       "      <th>...</th>\n",
       "      <th>Item_Type_Fruits and Vegetables</th>\n",
       "      <th>Item_Type_Hard Drinks</th>\n",
       "      <th>Item_Type_Health and Hygiene</th>\n",
       "      <th>Item_Type_Household</th>\n",
       "      <th>Item_Type_Meat</th>\n",
       "      <th>Item_Type_Others</th>\n",
       "      <th>Item_Type_Seafood</th>\n",
       "      <th>Item_Type_Snack Foods</th>\n",
       "      <th>Item_Type_Soft Drinks</th>\n",
       "      <th>Item_Type_Starchy Foods</th>\n",
       "    </tr>\n",
       "  </thead>\n",
       "  <tbody>\n",
       "    <tr>\n",
       "      <th>0</th>\n",
       "      <td>FDW58</td>\n",
       "      <td>20.750</td>\n",
       "      <td>0</td>\n",
       "      <td>0.007565</td>\n",
       "      <td>Snack Foods</td>\n",
       "      <td>107.8622</td>\n",
       "      <td>OUT049</td>\n",
       "      <td>4</td>\n",
       "      <td>1</td>\n",
       "      <td>0</td>\n",
       "      <td>...</td>\n",
       "      <td>0</td>\n",
       "      <td>0</td>\n",
       "      <td>0</td>\n",
       "      <td>0</td>\n",
       "      <td>0</td>\n",
       "      <td>0</td>\n",
       "      <td>0</td>\n",
       "      <td>1</td>\n",
       "      <td>0</td>\n",
       "      <td>0</td>\n",
       "    </tr>\n",
       "    <tr>\n",
       "      <th>1</th>\n",
       "      <td>FDW14</td>\n",
       "      <td>8.300</td>\n",
       "      <td>1</td>\n",
       "      <td>0.038428</td>\n",
       "      <td>Dairy</td>\n",
       "      <td>87.3198</td>\n",
       "      <td>OUT017</td>\n",
       "      <td>7</td>\n",
       "      <td>1</td>\n",
       "      <td>1</td>\n",
       "      <td>...</td>\n",
       "      <td>0</td>\n",
       "      <td>0</td>\n",
       "      <td>0</td>\n",
       "      <td>0</td>\n",
       "      <td>0</td>\n",
       "      <td>0</td>\n",
       "      <td>0</td>\n",
       "      <td>0</td>\n",
       "      <td>0</td>\n",
       "      <td>0</td>\n",
       "    </tr>\n",
       "    <tr>\n",
       "      <th>2</th>\n",
       "      <td>NCN55</td>\n",
       "      <td>14.600</td>\n",
       "      <td>0</td>\n",
       "      <td>0.099575</td>\n",
       "      <td>Others</td>\n",
       "      <td>241.7538</td>\n",
       "      <td>OUT010</td>\n",
       "      <td>3</td>\n",
       "      <td>2</td>\n",
       "      <td>2</td>\n",
       "      <td>...</td>\n",
       "      <td>0</td>\n",
       "      <td>0</td>\n",
       "      <td>0</td>\n",
       "      <td>0</td>\n",
       "      <td>0</td>\n",
       "      <td>1</td>\n",
       "      <td>0</td>\n",
       "      <td>0</td>\n",
       "      <td>0</td>\n",
       "      <td>0</td>\n",
       "    </tr>\n",
       "    <tr>\n",
       "      <th>3</th>\n",
       "      <td>FDQ58</td>\n",
       "      <td>7.315</td>\n",
       "      <td>0</td>\n",
       "      <td>0.015388</td>\n",
       "      <td>Snack Foods</td>\n",
       "      <td>155.0340</td>\n",
       "      <td>OUT017</td>\n",
       "      <td>7</td>\n",
       "      <td>1</td>\n",
       "      <td>1</td>\n",
       "      <td>...</td>\n",
       "      <td>0</td>\n",
       "      <td>0</td>\n",
       "      <td>0</td>\n",
       "      <td>0</td>\n",
       "      <td>0</td>\n",
       "      <td>0</td>\n",
       "      <td>0</td>\n",
       "      <td>1</td>\n",
       "      <td>0</td>\n",
       "      <td>0</td>\n",
       "    </tr>\n",
       "    <tr>\n",
       "      <th>4</th>\n",
       "      <td>FDY38</td>\n",
       "      <td>12.700</td>\n",
       "      <td>1</td>\n",
       "      <td>0.118599</td>\n",
       "      <td>Dairy</td>\n",
       "      <td>234.2300</td>\n",
       "      <td>OUT027</td>\n",
       "      <td>0</td>\n",
       "      <td>1</td>\n",
       "      <td>2</td>\n",
       "      <td>...</td>\n",
       "      <td>0</td>\n",
       "      <td>0</td>\n",
       "      <td>0</td>\n",
       "      <td>0</td>\n",
       "      <td>0</td>\n",
       "      <td>0</td>\n",
       "      <td>0</td>\n",
       "      <td>0</td>\n",
       "      <td>0</td>\n",
       "      <td>0</td>\n",
       "    </tr>\n",
       "  </tbody>\n",
       "</table>\n",
       "<p>5 rows × 27 columns</p>\n",
       "</div>"
      ],
      "text/plain": [
       "  Item_Identifier  Item_Weight  Item_Fat_Content  Item_Visibility  \\\n",
       "0           FDW58       20.750                 0         0.007565   \n",
       "1           FDW14        8.300                 1         0.038428   \n",
       "2           NCN55       14.600                 0         0.099575   \n",
       "3           FDQ58        7.315                 0         0.015388   \n",
       "4           FDY38       12.700                 1         0.118599   \n",
       "\n",
       "     Item_Type  Item_MRP Outlet_Identifier  Outlet_Establishment_Year  \\\n",
       "0  Snack Foods  107.8622            OUT049                          4   \n",
       "1        Dairy   87.3198            OUT017                          7   \n",
       "2       Others  241.7538            OUT010                          3   \n",
       "3  Snack Foods  155.0340            OUT017                          7   \n",
       "4        Dairy  234.2300            OUT027                          0   \n",
       "\n",
       "   Outlet_Size  Outlet_Location_Type  ...  Item_Type_Fruits and Vegetables  \\\n",
       "0            1                     0  ...                                0   \n",
       "1            1                     1  ...                                0   \n",
       "2            2                     2  ...                                0   \n",
       "3            1                     1  ...                                0   \n",
       "4            1                     2  ...                                0   \n",
       "\n",
       "   Item_Type_Hard Drinks  Item_Type_Health and Hygiene  Item_Type_Household  \\\n",
       "0                      0                             0                    0   \n",
       "1                      0                             0                    0   \n",
       "2                      0                             0                    0   \n",
       "3                      0                             0                    0   \n",
       "4                      0                             0                    0   \n",
       "\n",
       "   Item_Type_Meat  Item_Type_Others  Item_Type_Seafood  Item_Type_Snack Foods  \\\n",
       "0               0                 0                  0                      1   \n",
       "1               0                 0                  0                      0   \n",
       "2               0                 1                  0                      0   \n",
       "3               0                 0                  0                      1   \n",
       "4               0                 0                  0                      0   \n",
       "\n",
       "   Item_Type_Soft Drinks  Item_Type_Starchy Foods  \n",
       "0                      0                        0  \n",
       "1                      0                        0  \n",
       "2                      0                        0  \n",
       "3                      0                        0  \n",
       "4                      0                        0  \n",
       "\n",
       "[5 rows x 27 columns]"
      ]
     },
     "execution_count": 48,
     "metadata": {},
     "output_type": "execute_result"
    }
   ],
   "source": [
    "#Getting our testing features encoded\n",
    "test_data_oh = pd.DataFrame(ohe.fit_transform(test_data[nominals])).astype('int64')\n",
    "test_data_oh.columns = ohe.get_feature_names_out(nominals)\n",
    "test_data_oh.index = test_data.index\n",
    "test_data_fe = pd.concat([test_data, test_data_oh], axis=1)\n",
    "test_data_fe.head()"
   ]
  },
  {
   "cell_type": "markdown",
   "metadata": {
    "id": "XAIjQrO1pfqX"
   },
   "source": [
    "Since **Item_Identifier** and **Outlet_Identifier** are just IDs for the items and stores, respectively, we can just drop them.  "
   ]
  },
  {
   "cell_type": "code",
   "execution_count": 49,
   "metadata": {
    "colab": {
     "base_uri": "https://localhost:8080/",
     "height": 334
    },
    "id": "twBujadlm_vd",
    "outputId": "572cb90c-aa17-4124-a35d-900e8ef3ab88"
   },
   "outputs": [
    {
     "data": {
      "text/html": [
       "<div>\n",
       "<style scoped>\n",
       "    .dataframe tbody tr th:only-of-type {\n",
       "        vertical-align: middle;\n",
       "    }\n",
       "\n",
       "    .dataframe tbody tr th {\n",
       "        vertical-align: top;\n",
       "    }\n",
       "\n",
       "    .dataframe thead th {\n",
       "        text-align: right;\n",
       "    }\n",
       "</style>\n",
       "<table border=\"1\" class=\"dataframe\">\n",
       "  <thead>\n",
       "    <tr style=\"text-align: right;\">\n",
       "      <th></th>\n",
       "      <th>Item_Weight</th>\n",
       "      <th>Item_Fat_Content</th>\n",
       "      <th>Item_Visibility</th>\n",
       "      <th>Item_Type</th>\n",
       "      <th>Item_MRP</th>\n",
       "      <th>Outlet_Establishment_Year</th>\n",
       "      <th>Outlet_Size</th>\n",
       "      <th>Outlet_Location_Type</th>\n",
       "      <th>Outlet_Type</th>\n",
       "      <th>Item_Outlet_Sales</th>\n",
       "      <th>...</th>\n",
       "      <th>Item_Type_Fruits and Vegetables</th>\n",
       "      <th>Item_Type_Hard Drinks</th>\n",
       "      <th>Item_Type_Health and Hygiene</th>\n",
       "      <th>Item_Type_Household</th>\n",
       "      <th>Item_Type_Meat</th>\n",
       "      <th>Item_Type_Others</th>\n",
       "      <th>Item_Type_Seafood</th>\n",
       "      <th>Item_Type_Snack Foods</th>\n",
       "      <th>Item_Type_Soft Drinks</th>\n",
       "      <th>Item_Type_Starchy Foods</th>\n",
       "    </tr>\n",
       "  </thead>\n",
       "  <tbody>\n",
       "    <tr>\n",
       "      <th>0</th>\n",
       "      <td>9.30</td>\n",
       "      <td>0</td>\n",
       "      <td>0.016047</td>\n",
       "      <td>Dairy</td>\n",
       "      <td>249.8092</td>\n",
       "      <td>4</td>\n",
       "      <td>1</td>\n",
       "      <td>0</td>\n",
       "      <td>1</td>\n",
       "      <td>3735.1380</td>\n",
       "      <td>...</td>\n",
       "      <td>0</td>\n",
       "      <td>0</td>\n",
       "      <td>0</td>\n",
       "      <td>0</td>\n",
       "      <td>0</td>\n",
       "      <td>0</td>\n",
       "      <td>0</td>\n",
       "      <td>0</td>\n",
       "      <td>0</td>\n",
       "      <td>0</td>\n",
       "    </tr>\n",
       "    <tr>\n",
       "      <th>1</th>\n",
       "      <td>5.92</td>\n",
       "      <td>1</td>\n",
       "      <td>0.019278</td>\n",
       "      <td>Soft Drinks</td>\n",
       "      <td>48.2692</td>\n",
       "      <td>8</td>\n",
       "      <td>1</td>\n",
       "      <td>2</td>\n",
       "      <td>2</td>\n",
       "      <td>443.4228</td>\n",
       "      <td>...</td>\n",
       "      <td>0</td>\n",
       "      <td>0</td>\n",
       "      <td>0</td>\n",
       "      <td>0</td>\n",
       "      <td>0</td>\n",
       "      <td>0</td>\n",
       "      <td>0</td>\n",
       "      <td>0</td>\n",
       "      <td>1</td>\n",
       "      <td>0</td>\n",
       "    </tr>\n",
       "    <tr>\n",
       "      <th>2</th>\n",
       "      <td>17.50</td>\n",
       "      <td>0</td>\n",
       "      <td>0.016760</td>\n",
       "      <td>Meat</td>\n",
       "      <td>141.6180</td>\n",
       "      <td>4</td>\n",
       "      <td>1</td>\n",
       "      <td>0</td>\n",
       "      <td>1</td>\n",
       "      <td>2097.2700</td>\n",
       "      <td>...</td>\n",
       "      <td>0</td>\n",
       "      <td>0</td>\n",
       "      <td>0</td>\n",
       "      <td>0</td>\n",
       "      <td>1</td>\n",
       "      <td>0</td>\n",
       "      <td>0</td>\n",
       "      <td>0</td>\n",
       "      <td>0</td>\n",
       "      <td>0</td>\n",
       "    </tr>\n",
       "    <tr>\n",
       "      <th>3</th>\n",
       "      <td>19.20</td>\n",
       "      <td>1</td>\n",
       "      <td>0.000000</td>\n",
       "      <td>Fruits and Vegetables</td>\n",
       "      <td>182.0950</td>\n",
       "      <td>3</td>\n",
       "      <td>2</td>\n",
       "      <td>2</td>\n",
       "      <td>0</td>\n",
       "      <td>732.3800</td>\n",
       "      <td>...</td>\n",
       "      <td>1</td>\n",
       "      <td>0</td>\n",
       "      <td>0</td>\n",
       "      <td>0</td>\n",
       "      <td>0</td>\n",
       "      <td>0</td>\n",
       "      <td>0</td>\n",
       "      <td>0</td>\n",
       "      <td>0</td>\n",
       "      <td>0</td>\n",
       "    </tr>\n",
       "    <tr>\n",
       "      <th>4</th>\n",
       "      <td>8.93</td>\n",
       "      <td>0</td>\n",
       "      <td>0.000000</td>\n",
       "      <td>Household</td>\n",
       "      <td>53.8614</td>\n",
       "      <td>1</td>\n",
       "      <td>0</td>\n",
       "      <td>2</td>\n",
       "      <td>1</td>\n",
       "      <td>994.7052</td>\n",
       "      <td>...</td>\n",
       "      <td>0</td>\n",
       "      <td>0</td>\n",
       "      <td>0</td>\n",
       "      <td>1</td>\n",
       "      <td>0</td>\n",
       "      <td>0</td>\n",
       "      <td>0</td>\n",
       "      <td>0</td>\n",
       "      <td>0</td>\n",
       "      <td>0</td>\n",
       "    </tr>\n",
       "  </tbody>\n",
       "</table>\n",
       "<p>5 rows × 26 columns</p>\n",
       "</div>"
      ],
      "text/plain": [
       "   Item_Weight  Item_Fat_Content  Item_Visibility              Item_Type  \\\n",
       "0         9.30                 0         0.016047                  Dairy   \n",
       "1         5.92                 1         0.019278            Soft Drinks   \n",
       "2        17.50                 0         0.016760                   Meat   \n",
       "3        19.20                 1         0.000000  Fruits and Vegetables   \n",
       "4         8.93                 0         0.000000              Household   \n",
       "\n",
       "   Item_MRP  Outlet_Establishment_Year  Outlet_Size  Outlet_Location_Type  \\\n",
       "0  249.8092                          4            1                     0   \n",
       "1   48.2692                          8            1                     2   \n",
       "2  141.6180                          4            1                     0   \n",
       "3  182.0950                          3            2                     2   \n",
       "4   53.8614                          1            0                     2   \n",
       "\n",
       "   Outlet_Type  Item_Outlet_Sales  ...  Item_Type_Fruits and Vegetables  \\\n",
       "0            1          3735.1380  ...                                0   \n",
       "1            2           443.4228  ...                                0   \n",
       "2            1          2097.2700  ...                                0   \n",
       "3            0           732.3800  ...                                1   \n",
       "4            1           994.7052  ...                                0   \n",
       "\n",
       "   Item_Type_Hard Drinks  Item_Type_Health and Hygiene  Item_Type_Household  \\\n",
       "0                      0                             0                    0   \n",
       "1                      0                             0                    0   \n",
       "2                      0                             0                    0   \n",
       "3                      0                             0                    0   \n",
       "4                      0                             0                    1   \n",
       "\n",
       "   Item_Type_Meat  Item_Type_Others  Item_Type_Seafood  Item_Type_Snack Foods  \\\n",
       "0               0                 0                  0                      0   \n",
       "1               0                 0                  0                      0   \n",
       "2               1                 0                  0                      0   \n",
       "3               0                 0                  0                      0   \n",
       "4               0                 0                  0                      0   \n",
       "\n",
       "   Item_Type_Soft Drinks  Item_Type_Starchy Foods  \n",
       "0                      0                        0  \n",
       "1                      1                        0  \n",
       "2                      0                        0  \n",
       "3                      0                        0  \n",
       "4                      0                        0  \n",
       "\n",
       "[5 rows x 26 columns]"
      ]
     },
     "execution_count": 49,
     "metadata": {},
     "output_type": "execute_result"
    }
   ],
   "source": [
    "data_fe= data_fe.drop(['Item_Identifier', 'Outlet_Identifier'], axis=1)\n",
    "data_fe.head()"
   ]
  },
  {
   "cell_type": "markdown",
   "metadata": {
    "id": "5ED6NkW3unEL"
   },
   "source": [
    "We can also drop the **Item_Type** as we already have a column for each type after encoding.."
   ]
  },
  {
   "cell_type": "code",
   "execution_count": 50,
   "metadata": {
    "colab": {
     "base_uri": "https://localhost:8080/",
     "height": 317
    },
    "id": "W55ixgiVmO27",
    "outputId": "80806364-13d1-4629-ce3c-2dba8e4d26e8"
   },
   "outputs": [
    {
     "data": {
      "text/html": [
       "<div>\n",
       "<style scoped>\n",
       "    .dataframe tbody tr th:only-of-type {\n",
       "        vertical-align: middle;\n",
       "    }\n",
       "\n",
       "    .dataframe tbody tr th {\n",
       "        vertical-align: top;\n",
       "    }\n",
       "\n",
       "    .dataframe thead th {\n",
       "        text-align: right;\n",
       "    }\n",
       "</style>\n",
       "<table border=\"1\" class=\"dataframe\">\n",
       "  <thead>\n",
       "    <tr style=\"text-align: right;\">\n",
       "      <th></th>\n",
       "      <th>Item_Weight</th>\n",
       "      <th>Item_Fat_Content</th>\n",
       "      <th>Item_Visibility</th>\n",
       "      <th>Item_MRP</th>\n",
       "      <th>Outlet_Establishment_Year</th>\n",
       "      <th>Outlet_Size</th>\n",
       "      <th>Outlet_Location_Type</th>\n",
       "      <th>Outlet_Type</th>\n",
       "      <th>Item_Outlet_Sales</th>\n",
       "      <th>Item_Type_Baking Goods</th>\n",
       "      <th>...</th>\n",
       "      <th>Item_Type_Fruits and Vegetables</th>\n",
       "      <th>Item_Type_Hard Drinks</th>\n",
       "      <th>Item_Type_Health and Hygiene</th>\n",
       "      <th>Item_Type_Household</th>\n",
       "      <th>Item_Type_Meat</th>\n",
       "      <th>Item_Type_Others</th>\n",
       "      <th>Item_Type_Seafood</th>\n",
       "      <th>Item_Type_Snack Foods</th>\n",
       "      <th>Item_Type_Soft Drinks</th>\n",
       "      <th>Item_Type_Starchy Foods</th>\n",
       "    </tr>\n",
       "  </thead>\n",
       "  <tbody>\n",
       "    <tr>\n",
       "      <th>0</th>\n",
       "      <td>9.30</td>\n",
       "      <td>0</td>\n",
       "      <td>0.016047</td>\n",
       "      <td>249.8092</td>\n",
       "      <td>4</td>\n",
       "      <td>1</td>\n",
       "      <td>0</td>\n",
       "      <td>1</td>\n",
       "      <td>3735.1380</td>\n",
       "      <td>0</td>\n",
       "      <td>...</td>\n",
       "      <td>0</td>\n",
       "      <td>0</td>\n",
       "      <td>0</td>\n",
       "      <td>0</td>\n",
       "      <td>0</td>\n",
       "      <td>0</td>\n",
       "      <td>0</td>\n",
       "      <td>0</td>\n",
       "      <td>0</td>\n",
       "      <td>0</td>\n",
       "    </tr>\n",
       "    <tr>\n",
       "      <th>1</th>\n",
       "      <td>5.92</td>\n",
       "      <td>1</td>\n",
       "      <td>0.019278</td>\n",
       "      <td>48.2692</td>\n",
       "      <td>8</td>\n",
       "      <td>1</td>\n",
       "      <td>2</td>\n",
       "      <td>2</td>\n",
       "      <td>443.4228</td>\n",
       "      <td>0</td>\n",
       "      <td>...</td>\n",
       "      <td>0</td>\n",
       "      <td>0</td>\n",
       "      <td>0</td>\n",
       "      <td>0</td>\n",
       "      <td>0</td>\n",
       "      <td>0</td>\n",
       "      <td>0</td>\n",
       "      <td>0</td>\n",
       "      <td>1</td>\n",
       "      <td>0</td>\n",
       "    </tr>\n",
       "    <tr>\n",
       "      <th>2</th>\n",
       "      <td>17.50</td>\n",
       "      <td>0</td>\n",
       "      <td>0.016760</td>\n",
       "      <td>141.6180</td>\n",
       "      <td>4</td>\n",
       "      <td>1</td>\n",
       "      <td>0</td>\n",
       "      <td>1</td>\n",
       "      <td>2097.2700</td>\n",
       "      <td>0</td>\n",
       "      <td>...</td>\n",
       "      <td>0</td>\n",
       "      <td>0</td>\n",
       "      <td>0</td>\n",
       "      <td>0</td>\n",
       "      <td>1</td>\n",
       "      <td>0</td>\n",
       "      <td>0</td>\n",
       "      <td>0</td>\n",
       "      <td>0</td>\n",
       "      <td>0</td>\n",
       "    </tr>\n",
       "    <tr>\n",
       "      <th>3</th>\n",
       "      <td>19.20</td>\n",
       "      <td>1</td>\n",
       "      <td>0.000000</td>\n",
       "      <td>182.0950</td>\n",
       "      <td>3</td>\n",
       "      <td>2</td>\n",
       "      <td>2</td>\n",
       "      <td>0</td>\n",
       "      <td>732.3800</td>\n",
       "      <td>0</td>\n",
       "      <td>...</td>\n",
       "      <td>1</td>\n",
       "      <td>0</td>\n",
       "      <td>0</td>\n",
       "      <td>0</td>\n",
       "      <td>0</td>\n",
       "      <td>0</td>\n",
       "      <td>0</td>\n",
       "      <td>0</td>\n",
       "      <td>0</td>\n",
       "      <td>0</td>\n",
       "    </tr>\n",
       "    <tr>\n",
       "      <th>4</th>\n",
       "      <td>8.93</td>\n",
       "      <td>0</td>\n",
       "      <td>0.000000</td>\n",
       "      <td>53.8614</td>\n",
       "      <td>1</td>\n",
       "      <td>0</td>\n",
       "      <td>2</td>\n",
       "      <td>1</td>\n",
       "      <td>994.7052</td>\n",
       "      <td>0</td>\n",
       "      <td>...</td>\n",
       "      <td>0</td>\n",
       "      <td>0</td>\n",
       "      <td>0</td>\n",
       "      <td>1</td>\n",
       "      <td>0</td>\n",
       "      <td>0</td>\n",
       "      <td>0</td>\n",
       "      <td>0</td>\n",
       "      <td>0</td>\n",
       "      <td>0</td>\n",
       "    </tr>\n",
       "  </tbody>\n",
       "</table>\n",
       "<p>5 rows × 25 columns</p>\n",
       "</div>"
      ],
      "text/plain": [
       "   Item_Weight  Item_Fat_Content  Item_Visibility  Item_MRP  \\\n",
       "0         9.30                 0         0.016047  249.8092   \n",
       "1         5.92                 1         0.019278   48.2692   \n",
       "2        17.50                 0         0.016760  141.6180   \n",
       "3        19.20                 1         0.000000  182.0950   \n",
       "4         8.93                 0         0.000000   53.8614   \n",
       "\n",
       "   Outlet_Establishment_Year  Outlet_Size  Outlet_Location_Type  Outlet_Type  \\\n",
       "0                          4            1                     0            1   \n",
       "1                          8            1                     2            2   \n",
       "2                          4            1                     0            1   \n",
       "3                          3            2                     2            0   \n",
       "4                          1            0                     2            1   \n",
       "\n",
       "   Item_Outlet_Sales  Item_Type_Baking Goods  ...  \\\n",
       "0          3735.1380                       0  ...   \n",
       "1           443.4228                       0  ...   \n",
       "2          2097.2700                       0  ...   \n",
       "3           732.3800                       0  ...   \n",
       "4           994.7052                       0  ...   \n",
       "\n",
       "   Item_Type_Fruits and Vegetables  Item_Type_Hard Drinks  \\\n",
       "0                                0                      0   \n",
       "1                                0                      0   \n",
       "2                                0                      0   \n",
       "3                                1                      0   \n",
       "4                                0                      0   \n",
       "\n",
       "   Item_Type_Health and Hygiene  Item_Type_Household  Item_Type_Meat  \\\n",
       "0                             0                    0               0   \n",
       "1                             0                    0               0   \n",
       "2                             0                    0               1   \n",
       "3                             0                    0               0   \n",
       "4                             0                    1               0   \n",
       "\n",
       "   Item_Type_Others  Item_Type_Seafood  Item_Type_Snack Foods  \\\n",
       "0                 0                  0                      0   \n",
       "1                 0                  0                      0   \n",
       "2                 0                  0                      0   \n",
       "3                 0                  0                      0   \n",
       "4                 0                  0                      0   \n",
       "\n",
       "   Item_Type_Soft Drinks  Item_Type_Starchy Foods  \n",
       "0                      0                        0  \n",
       "1                      1                        0  \n",
       "2                      0                        0  \n",
       "3                      0                        0  \n",
       "4                      0                        0  \n",
       "\n",
       "[5 rows x 25 columns]"
      ]
     },
     "execution_count": 50,
     "metadata": {},
     "output_type": "execute_result"
    }
   ],
   "source": [
    "data_fe= data_fe.drop(['Item_Type'], axis=1)\n",
    "data_fe.head()"
   ]
  },
  {
   "cell_type": "markdown",
   "metadata": {
    "id": "v8HBHjMRux1B"
   },
   "source": [
    "Let's not forget our testing data.."
   ]
  },
  {
   "cell_type": "code",
   "execution_count": 51,
   "metadata": {
    "colab": {
     "base_uri": "https://localhost:8080/",
     "height": 317
    },
    "id": "s-wupf30u540",
    "outputId": "c612cad3-f333-4d20-e251-860135968c7f"
   },
   "outputs": [
    {
     "data": {
      "text/html": [
       "<div>\n",
       "<style scoped>\n",
       "    .dataframe tbody tr th:only-of-type {\n",
       "        vertical-align: middle;\n",
       "    }\n",
       "\n",
       "    .dataframe tbody tr th {\n",
       "        vertical-align: top;\n",
       "    }\n",
       "\n",
       "    .dataframe thead th {\n",
       "        text-align: right;\n",
       "    }\n",
       "</style>\n",
       "<table border=\"1\" class=\"dataframe\">\n",
       "  <thead>\n",
       "    <tr style=\"text-align: right;\">\n",
       "      <th></th>\n",
       "      <th>Item_Weight</th>\n",
       "      <th>Item_Fat_Content</th>\n",
       "      <th>Item_Visibility</th>\n",
       "      <th>Item_MRP</th>\n",
       "      <th>Outlet_Establishment_Year</th>\n",
       "      <th>Outlet_Size</th>\n",
       "      <th>Outlet_Location_Type</th>\n",
       "      <th>Outlet_Type</th>\n",
       "      <th>Item_Type_Baking Goods</th>\n",
       "      <th>Item_Type_Breads</th>\n",
       "      <th>...</th>\n",
       "      <th>Item_Type_Fruits and Vegetables</th>\n",
       "      <th>Item_Type_Hard Drinks</th>\n",
       "      <th>Item_Type_Health and Hygiene</th>\n",
       "      <th>Item_Type_Household</th>\n",
       "      <th>Item_Type_Meat</th>\n",
       "      <th>Item_Type_Others</th>\n",
       "      <th>Item_Type_Seafood</th>\n",
       "      <th>Item_Type_Snack Foods</th>\n",
       "      <th>Item_Type_Soft Drinks</th>\n",
       "      <th>Item_Type_Starchy Foods</th>\n",
       "    </tr>\n",
       "  </thead>\n",
       "  <tbody>\n",
       "    <tr>\n",
       "      <th>0</th>\n",
       "      <td>20.750</td>\n",
       "      <td>0</td>\n",
       "      <td>0.007565</td>\n",
       "      <td>107.8622</td>\n",
       "      <td>4</td>\n",
       "      <td>1</td>\n",
       "      <td>0</td>\n",
       "      <td>1</td>\n",
       "      <td>0</td>\n",
       "      <td>0</td>\n",
       "      <td>...</td>\n",
       "      <td>0</td>\n",
       "      <td>0</td>\n",
       "      <td>0</td>\n",
       "      <td>0</td>\n",
       "      <td>0</td>\n",
       "      <td>0</td>\n",
       "      <td>0</td>\n",
       "      <td>1</td>\n",
       "      <td>0</td>\n",
       "      <td>0</td>\n",
       "    </tr>\n",
       "    <tr>\n",
       "      <th>1</th>\n",
       "      <td>8.300</td>\n",
       "      <td>1</td>\n",
       "      <td>0.038428</td>\n",
       "      <td>87.3198</td>\n",
       "      <td>7</td>\n",
       "      <td>1</td>\n",
       "      <td>1</td>\n",
       "      <td>1</td>\n",
       "      <td>0</td>\n",
       "      <td>0</td>\n",
       "      <td>...</td>\n",
       "      <td>0</td>\n",
       "      <td>0</td>\n",
       "      <td>0</td>\n",
       "      <td>0</td>\n",
       "      <td>0</td>\n",
       "      <td>0</td>\n",
       "      <td>0</td>\n",
       "      <td>0</td>\n",
       "      <td>0</td>\n",
       "      <td>0</td>\n",
       "    </tr>\n",
       "    <tr>\n",
       "      <th>2</th>\n",
       "      <td>14.600</td>\n",
       "      <td>0</td>\n",
       "      <td>0.099575</td>\n",
       "      <td>241.7538</td>\n",
       "      <td>3</td>\n",
       "      <td>2</td>\n",
       "      <td>2</td>\n",
       "      <td>0</td>\n",
       "      <td>0</td>\n",
       "      <td>0</td>\n",
       "      <td>...</td>\n",
       "      <td>0</td>\n",
       "      <td>0</td>\n",
       "      <td>0</td>\n",
       "      <td>0</td>\n",
       "      <td>0</td>\n",
       "      <td>1</td>\n",
       "      <td>0</td>\n",
       "      <td>0</td>\n",
       "      <td>0</td>\n",
       "      <td>0</td>\n",
       "    </tr>\n",
       "    <tr>\n",
       "      <th>3</th>\n",
       "      <td>7.315</td>\n",
       "      <td>0</td>\n",
       "      <td>0.015388</td>\n",
       "      <td>155.0340</td>\n",
       "      <td>7</td>\n",
       "      <td>1</td>\n",
       "      <td>1</td>\n",
       "      <td>1</td>\n",
       "      <td>0</td>\n",
       "      <td>0</td>\n",
       "      <td>...</td>\n",
       "      <td>0</td>\n",
       "      <td>0</td>\n",
       "      <td>0</td>\n",
       "      <td>0</td>\n",
       "      <td>0</td>\n",
       "      <td>0</td>\n",
       "      <td>0</td>\n",
       "      <td>1</td>\n",
       "      <td>0</td>\n",
       "      <td>0</td>\n",
       "    </tr>\n",
       "    <tr>\n",
       "      <th>4</th>\n",
       "      <td>12.700</td>\n",
       "      <td>1</td>\n",
       "      <td>0.118599</td>\n",
       "      <td>234.2300</td>\n",
       "      <td>0</td>\n",
       "      <td>1</td>\n",
       "      <td>2</td>\n",
       "      <td>3</td>\n",
       "      <td>0</td>\n",
       "      <td>0</td>\n",
       "      <td>...</td>\n",
       "      <td>0</td>\n",
       "      <td>0</td>\n",
       "      <td>0</td>\n",
       "      <td>0</td>\n",
       "      <td>0</td>\n",
       "      <td>0</td>\n",
       "      <td>0</td>\n",
       "      <td>0</td>\n",
       "      <td>0</td>\n",
       "      <td>0</td>\n",
       "    </tr>\n",
       "  </tbody>\n",
       "</table>\n",
       "<p>5 rows × 24 columns</p>\n",
       "</div>"
      ],
      "text/plain": [
       "   Item_Weight  Item_Fat_Content  Item_Visibility  Item_MRP  \\\n",
       "0       20.750                 0         0.007565  107.8622   \n",
       "1        8.300                 1         0.038428   87.3198   \n",
       "2       14.600                 0         0.099575  241.7538   \n",
       "3        7.315                 0         0.015388  155.0340   \n",
       "4       12.700                 1         0.118599  234.2300   \n",
       "\n",
       "   Outlet_Establishment_Year  Outlet_Size  Outlet_Location_Type  Outlet_Type  \\\n",
       "0                          4            1                     0            1   \n",
       "1                          7            1                     1            1   \n",
       "2                          3            2                     2            0   \n",
       "3                          7            1                     1            1   \n",
       "4                          0            1                     2            3   \n",
       "\n",
       "   Item_Type_Baking Goods  Item_Type_Breads  ...  \\\n",
       "0                       0                 0  ...   \n",
       "1                       0                 0  ...   \n",
       "2                       0                 0  ...   \n",
       "3                       0                 0  ...   \n",
       "4                       0                 0  ...   \n",
       "\n",
       "   Item_Type_Fruits and Vegetables  Item_Type_Hard Drinks  \\\n",
       "0                                0                      0   \n",
       "1                                0                      0   \n",
       "2                                0                      0   \n",
       "3                                0                      0   \n",
       "4                                0                      0   \n",
       "\n",
       "   Item_Type_Health and Hygiene  Item_Type_Household  Item_Type_Meat  \\\n",
       "0                             0                    0               0   \n",
       "1                             0                    0               0   \n",
       "2                             0                    0               0   \n",
       "3                             0                    0               0   \n",
       "4                             0                    0               0   \n",
       "\n",
       "   Item_Type_Others  Item_Type_Seafood  Item_Type_Snack Foods  \\\n",
       "0                 0                  0                      1   \n",
       "1                 0                  0                      0   \n",
       "2                 1                  0                      0   \n",
       "3                 0                  0                      1   \n",
       "4                 0                  0                      0   \n",
       "\n",
       "   Item_Type_Soft Drinks  Item_Type_Starchy Foods  \n",
       "0                      0                        0  \n",
       "1                      0                        0  \n",
       "2                      0                        0  \n",
       "3                      0                        0  \n",
       "4                      0                        0  \n",
       "\n",
       "[5 rows x 24 columns]"
      ]
     },
     "execution_count": 51,
     "metadata": {},
     "output_type": "execute_result"
    }
   ],
   "source": [
    "test_data_fe= test_data_fe.drop(['Item_Identifier', 'Item_Type', 'Outlet_Identifier'], axis=1)\n",
    "test_data_fe.head()"
   ]
  },
  {
   "cell_type": "markdown",
   "metadata": {
    "id": "4c_vdXf8xykw"
   },
   "source": [
    "Before moving to the **Modeling** step, we need to rescale our numerical values for better model performance.."
   ]
  },
  {
   "cell_type": "code",
   "execution_count": 52,
   "metadata": {
    "colab": {
     "base_uri": "https://localhost:8080/",
     "height": 317
    },
    "id": "2wJ5SEUiuhoS",
    "outputId": "587db294-8d0a-4367-b81d-50defa4fba82"
   },
   "outputs": [
    {
     "data": {
      "text/html": [
       "<div>\n",
       "<style scoped>\n",
       "    .dataframe tbody tr th:only-of-type {\n",
       "        vertical-align: middle;\n",
       "    }\n",
       "\n",
       "    .dataframe tbody tr th {\n",
       "        vertical-align: top;\n",
       "    }\n",
       "\n",
       "    .dataframe thead th {\n",
       "        text-align: right;\n",
       "    }\n",
       "</style>\n",
       "<table border=\"1\" class=\"dataframe\">\n",
       "  <thead>\n",
       "    <tr style=\"text-align: right;\">\n",
       "      <th></th>\n",
       "      <th>Item_Weight</th>\n",
       "      <th>Item_Fat_Content</th>\n",
       "      <th>Item_Visibility</th>\n",
       "      <th>Item_MRP</th>\n",
       "      <th>Outlet_Establishment_Year</th>\n",
       "      <th>Outlet_Size</th>\n",
       "      <th>Outlet_Location_Type</th>\n",
       "      <th>Outlet_Type</th>\n",
       "      <th>Item_Outlet_Sales</th>\n",
       "      <th>Item_Type_Baking Goods</th>\n",
       "      <th>...</th>\n",
       "      <th>Item_Type_Fruits and Vegetables</th>\n",
       "      <th>Item_Type_Hard Drinks</th>\n",
       "      <th>Item_Type_Health and Hygiene</th>\n",
       "      <th>Item_Type_Household</th>\n",
       "      <th>Item_Type_Meat</th>\n",
       "      <th>Item_Type_Others</th>\n",
       "      <th>Item_Type_Seafood</th>\n",
       "      <th>Item_Type_Snack Foods</th>\n",
       "      <th>Item_Type_Soft Drinks</th>\n",
       "      <th>Item_Type_Starchy Foods</th>\n",
       "    </tr>\n",
       "  </thead>\n",
       "  <tbody>\n",
       "    <tr>\n",
       "      <th>0</th>\n",
       "      <td>-0.836916</td>\n",
       "      <td>0</td>\n",
       "      <td>-0.970594</td>\n",
       "      <td>1.797705</td>\n",
       "      <td>4</td>\n",
       "      <td>1</td>\n",
       "      <td>0</td>\n",
       "      <td>1</td>\n",
       "      <td>3735.1380</td>\n",
       "      <td>0</td>\n",
       "      <td>...</td>\n",
       "      <td>0</td>\n",
       "      <td>0</td>\n",
       "      <td>0</td>\n",
       "      <td>0</td>\n",
       "      <td>0</td>\n",
       "      <td>0</td>\n",
       "      <td>0</td>\n",
       "      <td>0</td>\n",
       "      <td>0</td>\n",
       "      <td>0</td>\n",
       "    </tr>\n",
       "    <tr>\n",
       "      <th>1</th>\n",
       "      <td>-1.632181</td>\n",
       "      <td>1</td>\n",
       "      <td>-0.908262</td>\n",
       "      <td>-1.476724</td>\n",
       "      <td>8</td>\n",
       "      <td>1</td>\n",
       "      <td>2</td>\n",
       "      <td>2</td>\n",
       "      <td>443.4228</td>\n",
       "      <td>0</td>\n",
       "      <td>...</td>\n",
       "      <td>0</td>\n",
       "      <td>0</td>\n",
       "      <td>0</td>\n",
       "      <td>0</td>\n",
       "      <td>0</td>\n",
       "      <td>0</td>\n",
       "      <td>0</td>\n",
       "      <td>0</td>\n",
       "      <td>1</td>\n",
       "      <td>0</td>\n",
       "    </tr>\n",
       "    <tr>\n",
       "      <th>2</th>\n",
       "      <td>1.092426</td>\n",
       "      <td>0</td>\n",
       "      <td>-0.956843</td>\n",
       "      <td>0.039918</td>\n",
       "      <td>4</td>\n",
       "      <td>1</td>\n",
       "      <td>0</td>\n",
       "      <td>1</td>\n",
       "      <td>2097.2700</td>\n",
       "      <td>0</td>\n",
       "      <td>...</td>\n",
       "      <td>0</td>\n",
       "      <td>0</td>\n",
       "      <td>0</td>\n",
       "      <td>0</td>\n",
       "      <td>1</td>\n",
       "      <td>0</td>\n",
       "      <td>0</td>\n",
       "      <td>0</td>\n",
       "      <td>0</td>\n",
       "      <td>0</td>\n",
       "    </tr>\n",
       "    <tr>\n",
       "      <th>3</th>\n",
       "      <td>1.492411</td>\n",
       "      <td>1</td>\n",
       "      <td>-1.280179</td>\n",
       "      <td>0.697549</td>\n",
       "      <td>3</td>\n",
       "      <td>2</td>\n",
       "      <td>2</td>\n",
       "      <td>0</td>\n",
       "      <td>732.3800</td>\n",
       "      <td>0</td>\n",
       "      <td>...</td>\n",
       "      <td>1</td>\n",
       "      <td>0</td>\n",
       "      <td>0</td>\n",
       "      <td>0</td>\n",
       "      <td>0</td>\n",
       "      <td>0</td>\n",
       "      <td>0</td>\n",
       "      <td>0</td>\n",
       "      <td>0</td>\n",
       "      <td>0</td>\n",
       "    </tr>\n",
       "    <tr>\n",
       "      <th>4</th>\n",
       "      <td>-0.923972</td>\n",
       "      <td>0</td>\n",
       "      <td>-1.280179</td>\n",
       "      <td>-1.385868</td>\n",
       "      <td>1</td>\n",
       "      <td>0</td>\n",
       "      <td>2</td>\n",
       "      <td>1</td>\n",
       "      <td>994.7052</td>\n",
       "      <td>0</td>\n",
       "      <td>...</td>\n",
       "      <td>0</td>\n",
       "      <td>0</td>\n",
       "      <td>0</td>\n",
       "      <td>1</td>\n",
       "      <td>0</td>\n",
       "      <td>0</td>\n",
       "      <td>0</td>\n",
       "      <td>0</td>\n",
       "      <td>0</td>\n",
       "      <td>0</td>\n",
       "    </tr>\n",
       "  </tbody>\n",
       "</table>\n",
       "<p>5 rows × 25 columns</p>\n",
       "</div>"
      ],
      "text/plain": [
       "   Item_Weight  Item_Fat_Content  Item_Visibility  Item_MRP  \\\n",
       "0    -0.836916                 0        -0.970594  1.797705   \n",
       "1    -1.632181                 1        -0.908262 -1.476724   \n",
       "2     1.092426                 0        -0.956843  0.039918   \n",
       "3     1.492411                 1        -1.280179  0.697549   \n",
       "4    -0.923972                 0        -1.280179 -1.385868   \n",
       "\n",
       "   Outlet_Establishment_Year  Outlet_Size  Outlet_Location_Type  Outlet_Type  \\\n",
       "0                          4            1                     0            1   \n",
       "1                          8            1                     2            2   \n",
       "2                          4            1                     0            1   \n",
       "3                          3            2                     2            0   \n",
       "4                          1            0                     2            1   \n",
       "\n",
       "   Item_Outlet_Sales  Item_Type_Baking Goods  ...  \\\n",
       "0          3735.1380                       0  ...   \n",
       "1           443.4228                       0  ...   \n",
       "2          2097.2700                       0  ...   \n",
       "3           732.3800                       0  ...   \n",
       "4           994.7052                       0  ...   \n",
       "\n",
       "   Item_Type_Fruits and Vegetables  Item_Type_Hard Drinks  \\\n",
       "0                                0                      0   \n",
       "1                                0                      0   \n",
       "2                                0                      0   \n",
       "3                                1                      0   \n",
       "4                                0                      0   \n",
       "\n",
       "   Item_Type_Health and Hygiene  Item_Type_Household  Item_Type_Meat  \\\n",
       "0                             0                    0               0   \n",
       "1                             0                    0               0   \n",
       "2                             0                    0               1   \n",
       "3                             0                    0               0   \n",
       "4                             0                    1               0   \n",
       "\n",
       "   Item_Type_Others  Item_Type_Seafood  Item_Type_Snack Foods  \\\n",
       "0                 0                  0                      0   \n",
       "1                 0                  0                      0   \n",
       "2                 0                  0                      0   \n",
       "3                 0                  0                      0   \n",
       "4                 0                  0                      0   \n",
       "\n",
       "   Item_Type_Soft Drinks  Item_Type_Starchy Foods  \n",
       "0                      0                        0  \n",
       "1                      1                        0  \n",
       "2                      0                        0  \n",
       "3                      0                        0  \n",
       "4                      0                        0  \n",
       "\n",
       "[5 rows x 25 columns]"
      ]
     },
     "execution_count": 52,
     "metadata": {},
     "output_type": "execute_result"
    }
   ],
   "source": [
    "numericals = ['Item_Weight', 'Item_Visibility', 'Item_MRP']\n",
    "\n",
    "sc = StandardScaler()\n",
    "for col in numericals:\n",
    "    data_fe[col] = sc.fit_transform(data_fe[[col]])\n",
    "data_fe.head()"
   ]
  },
  {
   "cell_type": "code",
   "execution_count": 53,
   "metadata": {
    "colab": {
     "base_uri": "https://localhost:8080/",
     "height": 317
    },
    "id": "AMoKPxxyvUPN",
    "outputId": "2c16ccb6-ca69-459e-c570-2f21ace21224"
   },
   "outputs": [
    {
     "data": {
      "text/html": [
       "<div>\n",
       "<style scoped>\n",
       "    .dataframe tbody tr th:only-of-type {\n",
       "        vertical-align: middle;\n",
       "    }\n",
       "\n",
       "    .dataframe tbody tr th {\n",
       "        vertical-align: top;\n",
       "    }\n",
       "\n",
       "    .dataframe thead th {\n",
       "        text-align: right;\n",
       "    }\n",
       "</style>\n",
       "<table border=\"1\" class=\"dataframe\">\n",
       "  <thead>\n",
       "    <tr style=\"text-align: right;\">\n",
       "      <th></th>\n",
       "      <th>Item_Weight</th>\n",
       "      <th>Item_Fat_Content</th>\n",
       "      <th>Item_Visibility</th>\n",
       "      <th>Item_MRP</th>\n",
       "      <th>Outlet_Establishment_Year</th>\n",
       "      <th>Outlet_Size</th>\n",
       "      <th>Outlet_Location_Type</th>\n",
       "      <th>Outlet_Type</th>\n",
       "      <th>Item_Type_Baking Goods</th>\n",
       "      <th>Item_Type_Breads</th>\n",
       "      <th>...</th>\n",
       "      <th>Item_Type_Fruits and Vegetables</th>\n",
       "      <th>Item_Type_Hard Drinks</th>\n",
       "      <th>Item_Type_Health and Hygiene</th>\n",
       "      <th>Item_Type_Household</th>\n",
       "      <th>Item_Type_Meat</th>\n",
       "      <th>Item_Type_Others</th>\n",
       "      <th>Item_Type_Seafood</th>\n",
       "      <th>Item_Type_Snack Foods</th>\n",
       "      <th>Item_Type_Soft Drinks</th>\n",
       "      <th>Item_Type_Starchy Foods</th>\n",
       "    </tr>\n",
       "  </thead>\n",
       "  <tbody>\n",
       "    <tr>\n",
       "      <th>0</th>\n",
       "      <td>1.897283</td>\n",
       "      <td>0</td>\n",
       "      <td>-1.134077</td>\n",
       "      <td>-0.536555</td>\n",
       "      <td>4</td>\n",
       "      <td>1</td>\n",
       "      <td>0</td>\n",
       "      <td>1</td>\n",
       "      <td>0</td>\n",
       "      <td>0</td>\n",
       "      <td>...</td>\n",
       "      <td>0</td>\n",
       "      <td>0</td>\n",
       "      <td>0</td>\n",
       "      <td>0</td>\n",
       "      <td>0</td>\n",
       "      <td>0</td>\n",
       "      <td>0</td>\n",
       "      <td>1</td>\n",
       "      <td>0</td>\n",
       "      <td>0</td>\n",
       "    </tr>\n",
       "    <tr>\n",
       "      <th>1</th>\n",
       "      <td>-1.035707</td>\n",
       "      <td>1</td>\n",
       "      <td>-0.531850</td>\n",
       "      <td>-0.868937</td>\n",
       "      <td>7</td>\n",
       "      <td>1</td>\n",
       "      <td>1</td>\n",
       "      <td>1</td>\n",
       "      <td>0</td>\n",
       "      <td>0</td>\n",
       "      <td>...</td>\n",
       "      <td>0</td>\n",
       "      <td>0</td>\n",
       "      <td>0</td>\n",
       "      <td>0</td>\n",
       "      <td>0</td>\n",
       "      <td>0</td>\n",
       "      <td>0</td>\n",
       "      <td>0</td>\n",
       "      <td>0</td>\n",
       "      <td>0</td>\n",
       "    </tr>\n",
       "    <tr>\n",
       "      <th>2</th>\n",
       "      <td>0.448457</td>\n",
       "      <td>0</td>\n",
       "      <td>0.661316</td>\n",
       "      <td>1.629848</td>\n",
       "      <td>3</td>\n",
       "      <td>2</td>\n",
       "      <td>2</td>\n",
       "      <td>0</td>\n",
       "      <td>0</td>\n",
       "      <td>0</td>\n",
       "      <td>...</td>\n",
       "      <td>0</td>\n",
       "      <td>0</td>\n",
       "      <td>0</td>\n",
       "      <td>0</td>\n",
       "      <td>0</td>\n",
       "      <td>1</td>\n",
       "      <td>0</td>\n",
       "      <td>0</td>\n",
       "      <td>0</td>\n",
       "      <td>0</td>\n",
       "    </tr>\n",
       "    <tr>\n",
       "      <th>3</th>\n",
       "      <td>-1.267754</td>\n",
       "      <td>0</td>\n",
       "      <td>-0.981416</td>\n",
       "      <td>0.226697</td>\n",
       "      <td>7</td>\n",
       "      <td>1</td>\n",
       "      <td>1</td>\n",
       "      <td>1</td>\n",
       "      <td>0</td>\n",
       "      <td>0</td>\n",
       "      <td>...</td>\n",
       "      <td>0</td>\n",
       "      <td>0</td>\n",
       "      <td>0</td>\n",
       "      <td>0</td>\n",
       "      <td>0</td>\n",
       "      <td>0</td>\n",
       "      <td>0</td>\n",
       "      <td>1</td>\n",
       "      <td>0</td>\n",
       "      <td>0</td>\n",
       "    </tr>\n",
       "    <tr>\n",
       "      <th>4</th>\n",
       "      <td>0.000852</td>\n",
       "      <td>1</td>\n",
       "      <td>1.032540</td>\n",
       "      <td>1.508110</td>\n",
       "      <td>0</td>\n",
       "      <td>1</td>\n",
       "      <td>2</td>\n",
       "      <td>3</td>\n",
       "      <td>0</td>\n",
       "      <td>0</td>\n",
       "      <td>...</td>\n",
       "      <td>0</td>\n",
       "      <td>0</td>\n",
       "      <td>0</td>\n",
       "      <td>0</td>\n",
       "      <td>0</td>\n",
       "      <td>0</td>\n",
       "      <td>0</td>\n",
       "      <td>0</td>\n",
       "      <td>0</td>\n",
       "      <td>0</td>\n",
       "    </tr>\n",
       "  </tbody>\n",
       "</table>\n",
       "<p>5 rows × 24 columns</p>\n",
       "</div>"
      ],
      "text/plain": [
       "   Item_Weight  Item_Fat_Content  Item_Visibility  Item_MRP  \\\n",
       "0     1.897283                 0        -1.134077 -0.536555   \n",
       "1    -1.035707                 1        -0.531850 -0.868937   \n",
       "2     0.448457                 0         0.661316  1.629848   \n",
       "3    -1.267754                 0        -0.981416  0.226697   \n",
       "4     0.000852                 1         1.032540  1.508110   \n",
       "\n",
       "   Outlet_Establishment_Year  Outlet_Size  Outlet_Location_Type  Outlet_Type  \\\n",
       "0                          4            1                     0            1   \n",
       "1                          7            1                     1            1   \n",
       "2                          3            2                     2            0   \n",
       "3                          7            1                     1            1   \n",
       "4                          0            1                     2            3   \n",
       "\n",
       "   Item_Type_Baking Goods  Item_Type_Breads  ...  \\\n",
       "0                       0                 0  ...   \n",
       "1                       0                 0  ...   \n",
       "2                       0                 0  ...   \n",
       "3                       0                 0  ...   \n",
       "4                       0                 0  ...   \n",
       "\n",
       "   Item_Type_Fruits and Vegetables  Item_Type_Hard Drinks  \\\n",
       "0                                0                      0   \n",
       "1                                0                      0   \n",
       "2                                0                      0   \n",
       "3                                0                      0   \n",
       "4                                0                      0   \n",
       "\n",
       "   Item_Type_Health and Hygiene  Item_Type_Household  Item_Type_Meat  \\\n",
       "0                             0                    0               0   \n",
       "1                             0                    0               0   \n",
       "2                             0                    0               0   \n",
       "3                             0                    0               0   \n",
       "4                             0                    0               0   \n",
       "\n",
       "   Item_Type_Others  Item_Type_Seafood  Item_Type_Snack Foods  \\\n",
       "0                 0                  0                      1   \n",
       "1                 0                  0                      0   \n",
       "2                 1                  0                      0   \n",
       "3                 0                  0                      1   \n",
       "4                 0                  0                      0   \n",
       "\n",
       "   Item_Type_Soft Drinks  Item_Type_Starchy Foods  \n",
       "0                      0                        0  \n",
       "1                      0                        0  \n",
       "2                      0                        0  \n",
       "3                      0                        0  \n",
       "4                      0                        0  \n",
       "\n",
       "[5 rows x 24 columns]"
      ]
     },
     "execution_count": 53,
     "metadata": {},
     "output_type": "execute_result"
    }
   ],
   "source": [
    "#numericals.remove('Item_Outlet_Sales')\n",
    "for col in numericals:\n",
    "    test_data_fe[col] = sc.fit_transform(test_data_fe[[col]])\n",
    "test_data_fe.head()"
   ]
  },
  {
   "cell_type": "code",
   "execution_count": 54,
   "metadata": {},
   "outputs": [],
   "source": [
    "X = data_fe.drop('Item_Outlet_Sales', axis=1)\n",
    "y= data_fe['Item_Outlet_Sales']"
   ]
  },
  {
   "cell_type": "code",
   "execution_count": 55,
   "metadata": {},
   "outputs": [],
   "source": [
    "X_train, X_test, y_train, y_test = train_test_split(X,y, test_size=0.2, random_state=42)"
   ]
  },
  {
   "cell_type": "code",
   "execution_count": 56,
   "metadata": {},
   "outputs": [
    {
     "data": {
      "text/plain": [
       "((6669, 24), (1668, 24), (6669,), (1668,))"
      ]
     },
     "execution_count": 56,
     "metadata": {},
     "output_type": "execute_result"
    }
   ],
   "source": [
    "X_train.shape, X_test.shape, y_train.shape, y_test.shape"
   ]
  },
  {
   "cell_type": "markdown",
   "metadata": {},
   "source": [
    "## Choosing the Best Machine Learning Model"
   ]
  },
  {
   "cell_type": "code",
   "execution_count": 57,
   "metadata": {},
   "outputs": [],
   "source": [
    "lr= LinearRegression()\n",
    "lasso = Lasso()\n",
    "ridge = Ridge()\n",
    "rf = RandomForestRegressor(n_estimators=100, random_state=42)\n",
    "xgb = XGBRegressor(n_estimators=100 ,random_state=42)"
   ]
  },
  {
   "cell_type": "code",
   "execution_count": 58,
   "metadata": {},
   "outputs": [],
   "source": [
    "models = [lr, lasso, ridge, rf, xgb]"
   ]
  },
  {
   "cell_type": "code",
   "execution_count": 59,
   "metadata": {},
   "outputs": [
    {
     "name": "stdout",
     "output_type": "stream",
     "text": [
      "R2_Score for LinearRegression() is 0.4922079107718952\n",
      "R2_Score for Lasso() is 0.49302902358848205\n",
      "R2_Score for Ridge() is 0.49222394507015005\n",
      "R2_Score for RandomForestRegressor(random_state=42) is 0.5383941931847318\n",
      "R2_Score for XGBRegressor(base_score=None, booster=None, callbacks=None,\n",
      "             colsample_bylevel=None, colsample_bynode=None,\n",
      "             colsample_bytree=None, device=None, early_stopping_rounds=None,\n",
      "             enable_categorical=False, eval_metric=None, feature_types=None,\n",
      "             gamma=None, grow_policy=None, importance_type=None,\n",
      "             interaction_constraints=None, learning_rate=None, max_bin=None,\n",
      "             max_cat_threshold=None, max_cat_to_onehot=None,\n",
      "             max_delta_step=None, max_depth=None, max_leaves=None,\n",
      "             min_child_weight=None, missing=nan, monotone_constraints=None,\n",
      "             multi_strategy=None, n_estimators=100, n_jobs=None,\n",
      "             num_parallel_tree=None, random_state=42, ...) is 0.4871047519428548\n"
     ]
    }
   ],
   "source": [
    "for model in models:\n",
    "    score = cross_val_score(model, X_train, y_train, cv=5, scoring='r2',n_jobs=-1)\n",
    "    print(f\"R2_Score for {model} is {score.mean()}\")"
   ]
  },
  {
   "cell_type": "markdown",
   "metadata": {},
   "source": [
    "It will be better to ignore both the Simple and Regularized Linear Regression models.\n",
    "\n",
    "Let's focus on the more complex ones.."
   ]
  },
  {
   "cell_type": "markdown",
   "metadata": {
    "id": "MOA1lx9P5Y9P"
   },
   "source": [
    "## **RandomForestRegressor** vs **XGBRegressor**"
   ]
  },
  {
   "cell_type": "markdown",
   "metadata": {},
   "source": [
    "Let's try to do some hyperparameter tuning to get a better results.\n",
    "\n",
    "Starting with the ***RandomForestRegressor***"
   ]
  },
  {
   "cell_type": "code",
   "execution_count": 60,
   "metadata": {},
   "outputs": [
    {
     "name": "stdout",
     "output_type": "stream",
     "text": [
      "Random Forests Score: 0.579, \n",
      "Trees: 20\n",
      "Depth: 5\n"
     ]
    }
   ],
   "source": [
    "maxR2_rf = 0\n",
    "best_rf = 0\n",
    "for trees in range(10, 101, 10):\n",
    "    for depth in range(2,11):\n",
    "        rf = RandomForestRegressor(n_estimators=trees, max_depth=depth, random_state=42)\n",
    "        rf.fit(X_train, y_train)\n",
    "        yhat = rf.predict(X_test)\n",
    "        #Uncomment the below line if you want to observe the differences in details with each value\n",
    "        ##for the estimators and trees depth\n",
    "        #print(f\"R2 Score for {trees} trees with depth of {depth} is {round(R2(y_test, yhat),3)}\")\n",
    "        if R2(y_test,yhat) > maxR2_rf:\n",
    "            maxR2_rf = round(R2(y_test, yhat),3)\n",
    "            best_rf = (trees, depth, maxR2_rf)\n",
    "            \n",
    "print(f\"Random Forests Score: {best_rf[2]}, \\nTrees: {best_rf[0]}\\nDepth: {best_rf[1]}\")"
   ]
  },
  {
   "cell_type": "markdown",
   "metadata": {},
   "source": [
    "To double check, let's to the same for the ***XGBRegressor***"
   ]
  },
  {
   "cell_type": "code",
   "execution_count": 61,
   "metadata": {},
   "outputs": [
    {
     "name": "stdout",
     "output_type": "stream",
     "text": [
      "XGB Score: 0.58, \n",
      "Trees: 10\n",
      "Depth: 3\n"
     ]
    }
   ],
   "source": [
    "maxR2_xgb = 0\n",
    "best_xgb= 0\n",
    "for trees in range(10, 101, 10):\n",
    "    for depth in range(2,11):\n",
    "        xgb = XGBRegressor(n_estimators=trees, max_depth=depth, random_state=42)\n",
    "        xgb.fit(X_train, y_train)\n",
    "        yhat = xgb.predict(X_test)\n",
    "        ##Uncomment the below command if you want to observe the differences in details with each value\n",
    "        ##for the estimators and trees depth\n",
    "        #print(f\"R2 Score for {trees} trees with depth of {depth} is {round(R2(y_test, yhat),3)}\")\n",
    "        if R2(y_test,yhat) > maxR2_xgb:\n",
    "            maxR2_xgb = round(R2(y_test, yhat),3)\n",
    "            best_xgb = (trees, depth, maxR2_xgb)\n",
    "            \n",
    "print(f\"XGB Score: {best_xgb[2]}, \\nTrees: {best_xgb[0]}\\nDepth: {best_xgb[1]}\")"
   ]
  },
  {
   "cell_type": "markdown",
   "metadata": {},
   "source": [
    "So, the ***XGBRegressor*** is our winner here with a very slight difference.."
   ]
  },
  {
   "cell_type": "code",
   "execution_count": 62,
   "metadata": {},
   "outputs": [
    {
     "data": {
      "text/html": [
       "<div>\n",
       "<style scoped>\n",
       "    .dataframe tbody tr th:only-of-type {\n",
       "        vertical-align: middle;\n",
       "    }\n",
       "\n",
       "    .dataframe tbody tr th {\n",
       "        vertical-align: top;\n",
       "    }\n",
       "\n",
       "    .dataframe thead th {\n",
       "        text-align: right;\n",
       "    }\n",
       "</style>\n",
       "<table border=\"1\" class=\"dataframe\">\n",
       "  <thead>\n",
       "    <tr style=\"text-align: right;\">\n",
       "      <th></th>\n",
       "      <th>Item_Weight</th>\n",
       "      <th>Item_Fat_Content</th>\n",
       "      <th>Item_Visibility</th>\n",
       "      <th>Item_MRP</th>\n",
       "      <th>Outlet_Establishment_Year</th>\n",
       "      <th>Outlet_Size</th>\n",
       "      <th>Outlet_Location_Type</th>\n",
       "      <th>Outlet_Type</th>\n",
       "      <th>Item_Type_Baking Goods</th>\n",
       "      <th>Item_Type_Breads</th>\n",
       "      <th>...</th>\n",
       "      <th>Item_Type_Hard Drinks</th>\n",
       "      <th>Item_Type_Health and Hygiene</th>\n",
       "      <th>Item_Type_Household</th>\n",
       "      <th>Item_Type_Meat</th>\n",
       "      <th>Item_Type_Others</th>\n",
       "      <th>Item_Type_Seafood</th>\n",
       "      <th>Item_Type_Snack Foods</th>\n",
       "      <th>Item_Type_Soft Drinks</th>\n",
       "      <th>Item_Type_Starchy Foods</th>\n",
       "      <th>Final Estimations</th>\n",
       "    </tr>\n",
       "  </thead>\n",
       "  <tbody>\n",
       "    <tr>\n",
       "      <th>0</th>\n",
       "      <td>1.897283</td>\n",
       "      <td>0</td>\n",
       "      <td>-1.134077</td>\n",
       "      <td>-0.536555</td>\n",
       "      <td>4</td>\n",
       "      <td>1</td>\n",
       "      <td>0</td>\n",
       "      <td>1</td>\n",
       "      <td>0</td>\n",
       "      <td>0</td>\n",
       "      <td>...</td>\n",
       "      <td>0</td>\n",
       "      <td>0</td>\n",
       "      <td>0</td>\n",
       "      <td>0</td>\n",
       "      <td>0</td>\n",
       "      <td>0</td>\n",
       "      <td>1</td>\n",
       "      <td>0</td>\n",
       "      <td>0</td>\n",
       "      <td>1626.094238</td>\n",
       "    </tr>\n",
       "    <tr>\n",
       "      <th>1</th>\n",
       "      <td>-1.035707</td>\n",
       "      <td>1</td>\n",
       "      <td>-0.531850</td>\n",
       "      <td>-0.868937</td>\n",
       "      <td>7</td>\n",
       "      <td>1</td>\n",
       "      <td>1</td>\n",
       "      <td>1</td>\n",
       "      <td>0</td>\n",
       "      <td>0</td>\n",
       "      <td>...</td>\n",
       "      <td>0</td>\n",
       "      <td>0</td>\n",
       "      <td>0</td>\n",
       "      <td>0</td>\n",
       "      <td>0</td>\n",
       "      <td>0</td>\n",
       "      <td>0</td>\n",
       "      <td>0</td>\n",
       "      <td>0</td>\n",
       "      <td>1424.133057</td>\n",
       "    </tr>\n",
       "    <tr>\n",
       "      <th>2</th>\n",
       "      <td>0.448457</td>\n",
       "      <td>0</td>\n",
       "      <td>0.661316</td>\n",
       "      <td>1.629848</td>\n",
       "      <td>3</td>\n",
       "      <td>2</td>\n",
       "      <td>2</td>\n",
       "      <td>0</td>\n",
       "      <td>0</td>\n",
       "      <td>0</td>\n",
       "      <td>...</td>\n",
       "      <td>0</td>\n",
       "      <td>0</td>\n",
       "      <td>0</td>\n",
       "      <td>0</td>\n",
       "      <td>1</td>\n",
       "      <td>0</td>\n",
       "      <td>0</td>\n",
       "      <td>0</td>\n",
       "      <td>0</td>\n",
       "      <td>637.094482</td>\n",
       "    </tr>\n",
       "    <tr>\n",
       "      <th>3</th>\n",
       "      <td>-1.267754</td>\n",
       "      <td>0</td>\n",
       "      <td>-0.981416</td>\n",
       "      <td>0.226697</td>\n",
       "      <td>7</td>\n",
       "      <td>1</td>\n",
       "      <td>1</td>\n",
       "      <td>1</td>\n",
       "      <td>0</td>\n",
       "      <td>0</td>\n",
       "      <td>...</td>\n",
       "      <td>0</td>\n",
       "      <td>0</td>\n",
       "      <td>0</td>\n",
       "      <td>0</td>\n",
       "      <td>0</td>\n",
       "      <td>0</td>\n",
       "      <td>1</td>\n",
       "      <td>0</td>\n",
       "      <td>0</td>\n",
       "      <td>2458.656738</td>\n",
       "    </tr>\n",
       "    <tr>\n",
       "      <th>4</th>\n",
       "      <td>0.000852</td>\n",
       "      <td>1</td>\n",
       "      <td>1.032540</td>\n",
       "      <td>1.508110</td>\n",
       "      <td>0</td>\n",
       "      <td>1</td>\n",
       "      <td>2</td>\n",
       "      <td>3</td>\n",
       "      <td>0</td>\n",
       "      <td>0</td>\n",
       "      <td>...</td>\n",
       "      <td>0</td>\n",
       "      <td>0</td>\n",
       "      <td>0</td>\n",
       "      <td>0</td>\n",
       "      <td>0</td>\n",
       "      <td>0</td>\n",
       "      <td>0</td>\n",
       "      <td>0</td>\n",
       "      <td>0</td>\n",
       "      <td>4430.248047</td>\n",
       "    </tr>\n",
       "    <tr>\n",
       "      <th>...</th>\n",
       "      <td>...</td>\n",
       "      <td>...</td>\n",
       "      <td>...</td>\n",
       "      <td>...</td>\n",
       "      <td>...</td>\n",
       "      <td>...</td>\n",
       "      <td>...</td>\n",
       "      <td>...</td>\n",
       "      <td>...</td>\n",
       "      <td>...</td>\n",
       "      <td>...</td>\n",
       "      <td>...</td>\n",
       "      <td>...</td>\n",
       "      <td>...</td>\n",
       "      <td>...</td>\n",
       "      <td>...</td>\n",
       "      <td>...</td>\n",
       "      <td>...</td>\n",
       "      <td>...</td>\n",
       "      <td>...</td>\n",
       "      <td>...</td>\n",
       "    </tr>\n",
       "    <tr>\n",
       "      <th>5676</th>\n",
       "      <td>-0.517427</td>\n",
       "      <td>1</td>\n",
       "      <td>-1.018333</td>\n",
       "      <td>0.004727</td>\n",
       "      <td>2</td>\n",
       "      <td>2</td>\n",
       "      <td>0</td>\n",
       "      <td>1</td>\n",
       "      <td>0</td>\n",
       "      <td>0</td>\n",
       "      <td>...</td>\n",
       "      <td>0</td>\n",
       "      <td>0</td>\n",
       "      <td>0</td>\n",
       "      <td>0</td>\n",
       "      <td>0</td>\n",
       "      <td>0</td>\n",
       "      <td>1</td>\n",
       "      <td>0</td>\n",
       "      <td>0</td>\n",
       "      <td>2116.986816</td>\n",
       "    </tr>\n",
       "    <tr>\n",
       "      <th>5677</th>\n",
       "      <td>-1.200614</td>\n",
       "      <td>1</td>\n",
       "      <td>1.508493</td>\n",
       "      <td>0.455014</td>\n",
       "      <td>8</td>\n",
       "      <td>1</td>\n",
       "      <td>2</td>\n",
       "      <td>2</td>\n",
       "      <td>0</td>\n",
       "      <td>0</td>\n",
       "      <td>...</td>\n",
       "      <td>0</td>\n",
       "      <td>0</td>\n",
       "      <td>0</td>\n",
       "      <td>0</td>\n",
       "      <td>0</td>\n",
       "      <td>0</td>\n",
       "      <td>0</td>\n",
       "      <td>0</td>\n",
       "      <td>1</td>\n",
       "      <td>2594.777588</td>\n",
       "    </tr>\n",
       "    <tr>\n",
       "      <th>5678</th>\n",
       "      <td>-0.635218</td>\n",
       "      <td>0</td>\n",
       "      <td>0.153074</td>\n",
       "      <td>-0.360485</td>\n",
       "      <td>5</td>\n",
       "      <td>0</td>\n",
       "      <td>1</td>\n",
       "      <td>1</td>\n",
       "      <td>0</td>\n",
       "      <td>0</td>\n",
       "      <td>...</td>\n",
       "      <td>0</td>\n",
       "      <td>1</td>\n",
       "      <td>0</td>\n",
       "      <td>0</td>\n",
       "      <td>0</td>\n",
       "      <td>0</td>\n",
       "      <td>0</td>\n",
       "      <td>0</td>\n",
       "      <td>0</td>\n",
       "      <td>1831.113892</td>\n",
       "    </tr>\n",
       "    <tr>\n",
       "      <th>5679</th>\n",
       "      <td>0.613364</td>\n",
       "      <td>1</td>\n",
       "      <td>-1.281690</td>\n",
       "      <td>1.190844</td>\n",
       "      <td>7</td>\n",
       "      <td>1</td>\n",
       "      <td>1</td>\n",
       "      <td>1</td>\n",
       "      <td>0</td>\n",
       "      <td>0</td>\n",
       "      <td>...</td>\n",
       "      <td>0</td>\n",
       "      <td>0</td>\n",
       "      <td>0</td>\n",
       "      <td>0</td>\n",
       "      <td>0</td>\n",
       "      <td>0</td>\n",
       "      <td>0</td>\n",
       "      <td>0</td>\n",
       "      <td>0</td>\n",
       "      <td>3329.343018</td>\n",
       "    </tr>\n",
       "    <tr>\n",
       "      <th>5680</th>\n",
       "      <td>-0.753009</td>\n",
       "      <td>1</td>\n",
       "      <td>0.761716</td>\n",
       "      <td>-0.990674</td>\n",
       "      <td>5</td>\n",
       "      <td>0</td>\n",
       "      <td>1</td>\n",
       "      <td>1</td>\n",
       "      <td>0</td>\n",
       "      <td>0</td>\n",
       "      <td>...</td>\n",
       "      <td>0</td>\n",
       "      <td>0</td>\n",
       "      <td>0</td>\n",
       "      <td>0</td>\n",
       "      <td>0</td>\n",
       "      <td>0</td>\n",
       "      <td>0</td>\n",
       "      <td>0</td>\n",
       "      <td>0</td>\n",
       "      <td>1128.047607</td>\n",
       "    </tr>\n",
       "  </tbody>\n",
       "</table>\n",
       "<p>5681 rows × 25 columns</p>\n",
       "</div>"
      ],
      "text/plain": [
       "      Item_Weight  Item_Fat_Content  Item_Visibility  Item_MRP  \\\n",
       "0        1.897283                 0        -1.134077 -0.536555   \n",
       "1       -1.035707                 1        -0.531850 -0.868937   \n",
       "2        0.448457                 0         0.661316  1.629848   \n",
       "3       -1.267754                 0        -0.981416  0.226697   \n",
       "4        0.000852                 1         1.032540  1.508110   \n",
       "...           ...               ...              ...       ...   \n",
       "5676    -0.517427                 1        -1.018333  0.004727   \n",
       "5677    -1.200614                 1         1.508493  0.455014   \n",
       "5678    -0.635218                 0         0.153074 -0.360485   \n",
       "5679     0.613364                 1        -1.281690  1.190844   \n",
       "5680    -0.753009                 1         0.761716 -0.990674   \n",
       "\n",
       "      Outlet_Establishment_Year  Outlet_Size  Outlet_Location_Type  \\\n",
       "0                             4            1                     0   \n",
       "1                             7            1                     1   \n",
       "2                             3            2                     2   \n",
       "3                             7            1                     1   \n",
       "4                             0            1                     2   \n",
       "...                         ...          ...                   ...   \n",
       "5676                          2            2                     0   \n",
       "5677                          8            1                     2   \n",
       "5678                          5            0                     1   \n",
       "5679                          7            1                     1   \n",
       "5680                          5            0                     1   \n",
       "\n",
       "      Outlet_Type  Item_Type_Baking Goods  Item_Type_Breads  ...  \\\n",
       "0               1                       0                 0  ...   \n",
       "1               1                       0                 0  ...   \n",
       "2               0                       0                 0  ...   \n",
       "3               1                       0                 0  ...   \n",
       "4               3                       0                 0  ...   \n",
       "...           ...                     ...               ...  ...   \n",
       "5676            1                       0                 0  ...   \n",
       "5677            2                       0                 0  ...   \n",
       "5678            1                       0                 0  ...   \n",
       "5679            1                       0                 0  ...   \n",
       "5680            1                       0                 0  ...   \n",
       "\n",
       "      Item_Type_Hard Drinks  Item_Type_Health and Hygiene  \\\n",
       "0                         0                             0   \n",
       "1                         0                             0   \n",
       "2                         0                             0   \n",
       "3                         0                             0   \n",
       "4                         0                             0   \n",
       "...                     ...                           ...   \n",
       "5676                      0                             0   \n",
       "5677                      0                             0   \n",
       "5678                      0                             1   \n",
       "5679                      0                             0   \n",
       "5680                      0                             0   \n",
       "\n",
       "      Item_Type_Household  Item_Type_Meat  Item_Type_Others  \\\n",
       "0                       0               0                 0   \n",
       "1                       0               0                 0   \n",
       "2                       0               0                 1   \n",
       "3                       0               0                 0   \n",
       "4                       0               0                 0   \n",
       "...                   ...             ...               ...   \n",
       "5676                    0               0                 0   \n",
       "5677                    0               0                 0   \n",
       "5678                    0               0                 0   \n",
       "5679                    0               0                 0   \n",
       "5680                    0               0                 0   \n",
       "\n",
       "      Item_Type_Seafood  Item_Type_Snack Foods  Item_Type_Soft Drinks  \\\n",
       "0                     0                      1                      0   \n",
       "1                     0                      0                      0   \n",
       "2                     0                      0                      0   \n",
       "3                     0                      1                      0   \n",
       "4                     0                      0                      0   \n",
       "...                 ...                    ...                    ...   \n",
       "5676                  0                      1                      0   \n",
       "5677                  0                      0                      0   \n",
       "5678                  0                      0                      0   \n",
       "5679                  0                      0                      0   \n",
       "5680                  0                      0                      0   \n",
       "\n",
       "      Item_Type_Starchy Foods  Final Estimations  \n",
       "0                           0        1626.094238  \n",
       "1                           0        1424.133057  \n",
       "2                           0         637.094482  \n",
       "3                           0        2458.656738  \n",
       "4                           0        4430.248047  \n",
       "...                       ...                ...  \n",
       "5676                        0        2116.986816  \n",
       "5677                        1        2594.777588  \n",
       "5678                        0        1831.113892  \n",
       "5679                        0        3329.343018  \n",
       "5680                        0        1128.047607  \n",
       "\n",
       "[5681 rows x 25 columns]"
      ]
     },
     "execution_count": 62,
     "metadata": {},
     "output_type": "execute_result"
    }
   ],
   "source": [
    "best_model = XGBRegressor(n_estimators=10, max_depth=3, random_state=42)\n",
    "best_model.fit(X_train, y_train)\n",
    "\n",
    "expected_sales = best_model.predict(test_data_fe)\n",
    "test_data_fe['Final Estimations'] = expected_sales\n",
    "test_data_fe"
   ]
  },
  {
   "cell_type": "markdown",
   "metadata": {},
   "source": [
    "With the Training and Tuning to the model's Hyperparameters, we were able to obtain an observable improvement in the model's performance.\n",
    "\n",
    "Our ***XGBRegressor*** firstly scored **48%** and now it scored **58%**"
   ]
  },
  {
   "cell_type": "markdown",
   "metadata": {},
   "source": [
    "Hope that I'll be able to achieve better results in my upcoming projects"
   ]
  }
 ],
 "metadata": {
  "colab": {
   "provenance": []
  },
  "kernelspec": {
   "display_name": "Python 3 (ipykernel)",
   "language": "python",
   "name": "python3"
  },
  "language_info": {
   "codemirror_mode": {
    "name": "ipython",
    "version": 3
   },
   "file_extension": ".py",
   "mimetype": "text/x-python",
   "name": "python",
   "nbconvert_exporter": "python",
   "pygments_lexer": "ipython3",
   "version": "3.10.9"
  }
 },
 "nbformat": 4,
 "nbformat_minor": 1
}
